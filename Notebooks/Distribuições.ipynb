{
  "nbformat": 4,
  "nbformat_minor": 0,
  "metadata": {
    "colab": {
      "provenance": [],
      "collapsed_sections": [
        "2BLirzS1T98j",
        "Lj7WRyupk6-U",
        "Q6YpuctzeiKh",
        "RD0U_cev-Svx",
        "GMhbY9sOEkp4",
        "GydnuNBsLJNn",
        "b7w8EREgciHc",
        "clcXtG1liStO",
        "Xc0ke7RCuobr"
      ]
    },
    "kernelspec": {
      "name": "python3",
      "display_name": "Python 3"
    }
  },
  "cells": [
    {
      "cell_type": "markdown",
      "metadata": {
        "id": "Nl-p9kheMUPv"
      },
      "source": [
        "# Distribuições"
      ]
    },
    {
      "cell_type": "markdown",
      "metadata": {
        "id": "Heuk5btoMq-m"
      },
      "source": [
        "## Bibliotecas"
      ]
    },
    {
      "cell_type": "code",
      "metadata": {
        "id": "AURE4vIFMHZj"
      },
      "source": [
        "import numpy as np\n",
        "import seaborn as sns\n",
        "import pandas as pd\n",
        "from scipy import stats"
      ],
      "execution_count": null,
      "outputs": []
    },
    {
      "cell_type": "markdown",
      "metadata": {
        "id": "2BLirzS1T98j"
      },
      "source": [
        "## Variáveis contínuas"
      ]
    },
    {
      "cell_type": "markdown",
      "metadata": {
        "id": "Dy_LZ1xwMWV5"
      },
      "source": [
        "### Distribuição normal - Gaussian distribution (bell)"
      ]
    },
    {
      "cell_type": "code",
      "metadata": {
        "id": "gjLR9zzmMfwO"
      },
      "source": [
        "dados_normal = stats.norm.rvs(size = 1000, random_state = 1)"
      ],
      "execution_count": null,
      "outputs": []
    },
    {
      "cell_type": "code",
      "metadata": {
        "id": "Z0oha9AOM0oG",
        "colab": {
          "base_uri": "https://localhost:8080/",
          "height": 55
        },
        "outputId": "4cf2aa80-45fc-4164-b6c7-7850f8fd3285"
      },
      "source": [
        "min(dados_normal), max(dados_normal)"
      ],
      "execution_count": null,
      "outputs": [
        {
          "output_type": "execute_result",
          "data": {
            "text/plain": [
              "(-3.053764380426305, 3.9586027040379634)"
            ]
          },
          "metadata": {
            "tags": []
          },
          "execution_count": 18
        }
      ]
    },
    {
      "cell_type": "code",
      "metadata": {
        "id": "DndkKl8_M8ow",
        "colab": {
          "base_uri": "https://localhost:8080/",
          "height": 285
        },
        "outputId": "aea28585-89d8-4e23-c092-76ac9ed40d2d"
      },
      "source": [
        "sns.distplot(dados_normal, hist = True, kde = True);"
      ],
      "execution_count": null,
      "outputs": [
        {
          "output_type": "display_data",
          "data": {
            "image/png": "[encoded data removed]",
            "text/plain": [
              "<Figure size 432x288 with 1 Axes>"
            ]
          },
          "metadata": {
            "tags": [],
            "needs_background": "light"
          }
        }
      ]
    },
    {
      "cell_type": "code",
      "metadata": {
        "id": "ATsikNA2NhwR",
        "colab": {
          "base_uri": "https://localhost:8080/",
          "height": 125
        },
        "outputId": "e554a385-1898-47fc-abc4-d033b287630e"
      },
      "source": [
        "dados_normal.mean(), np.median(dados_normal), stats.mode(dados_normal), np.var(dados_normal), np.std(dados_normal)"
      ],
      "execution_count": null,
      "outputs": [
        {
          "output_type": "execute_result",
          "data": {
            "text/plain": [
              "(0.03881247615960185,\n",
              " 0.04129258886921605,\n",
              " ModeResult(mode=array([-3.05376438]), count=array([1])),\n",
              " 0.9623691107920885,\n",
              " 0.9810041339322116)"
            ]
          },
          "metadata": {
            "tags": []
          },
          "execution_count": 20
        }
      ]
    },
    {
      "cell_type": "code",
      "metadata": {
        "id": "9GcueAjOOS18",
        "colab": {
          "base_uri": "https://localhost:8080/",
          "height": 55
        },
        "outputId": "20117652-0af6-468b-c6c2-195afc492343"
      },
      "source": [
        "np.sum(((dados_normal >= 0.9810041339322116) & (dados_normal <= 0.9810041339322116 + 1)))"
      ],
      "execution_count": null,
      "outputs": [
        {
          "output_type": "execute_result",
          "data": {
            "text/plain": [
              "148"
            ]
          },
          "metadata": {
            "tags": []
          },
          "execution_count": 21
        }
      ]
    },
    {
      "cell_type": "code",
      "metadata": {
        "id": "PlyC6YPwOmVQ",
        "colab": {
          "base_uri": "https://localhost:8080/",
          "height": 55
        },
        "outputId": "493db903-7a41-4d73-f82d-95a3e2797efa"
      },
      "source": [
        "np.sum(((dados_normal <= 0.9810041339322116) & (dados_normal >= 0.9810041339322116 - 1)))"
      ],
      "execution_count": null,
      "outputs": [
        {
          "output_type": "execute_result",
          "data": {
            "text/plain": [
              "353"
            ]
          },
          "metadata": {
            "tags": []
          },
          "execution_count": 22
        }
      ]
    },
    {
      "cell_type": "code",
      "metadata": {
        "id": "qBkgVlvIO8Fe",
        "colab": {
          "base_uri": "https://localhost:8080/",
          "height": 55
        },
        "outputId": "6c503676-dfd0-4b83-db2a-8bb95ab49f29"
      },
      "source": [
        "(148 + 353) / 1000"
      ],
      "execution_count": null,
      "outputs": [
        {
          "output_type": "execute_result",
          "data": {
            "text/plain": [
              "0.501"
            ]
          },
          "metadata": {
            "tags": []
          },
          "execution_count": 23
        }
      ]
    },
    {
      "cell_type": "markdown",
      "metadata": {
        "id": "U8UpcyBzq512"
      },
      "source": [
        "### Distribuição normal com dados das alturas"
      ]
    },
    {
      "cell_type": "code",
      "metadata": {
        "id": "amRzlytOPXuO"
      },
      "source": [
        "dados = np.array([126. , 129.5, 133. , 133. , 136.5, 136.5, 140. , 140. , 140. ,\n",
        "                  140. , 143.5, 143.5, 143.5, 143.5, 143.5, 143.5, 147. , 147. ,\n",
        "                  147. , 147. , 147. , 147. , 147. , 150.5, 150.5, 150.5, 150.5,\n",
        "                  150.5, 150.5, 150.5, 150.5, 154. , 154. , 154. , 154. , 154. ,\n",
        "                  154. , 154. , 154. , 154. , 157.5, 157.5, 157.5, 157.5, 157.5,\n",
        "                  157.5, 157.5, 157.5, 157.5, 157.5, 161. , 161. , 161. , 161. ,\n",
        "                  161. , 161. , 161. , 161. , 161. , 161. , 164.5, 164.5, 164.5,\n",
        "                  164.5, 164.5, 164.5, 164.5, 164.5, 164.5, 168. , 168. , 168. ,\n",
        "                  168. , 168. , 168. , 168. , 168. , 171.5, 171.5, 171.5, 171.5,\n",
        "                  171.5, 171.5, 171.5, 175. , 175. , 175. , 175. , 175. , 175. ,\n",
        "                  178.5, 178.5, 178.5, 178.5, 182. , 182. , 185.5, 185.5, 189., 192.5])"
      ],
      "execution_count": null,
      "outputs": []
    },
    {
      "cell_type": "code",
      "metadata": {
        "id": "55z-2h_6Pug9",
        "colab": {
          "base_uri": "https://localhost:8080/",
          "height": 55
        },
        "outputId": "01f030ec-2140-4a80-c907-474d6745c090"
      },
      "source": [
        "len(dados)"
      ],
      "execution_count": null,
      "outputs": [
        {
          "output_type": "execute_result",
          "data": {
            "text/plain": [
              "100"
            ]
          },
          "metadata": {
            "tags": []
          },
          "execution_count": 25
        }
      ]
    },
    {
      "cell_type": "code",
      "metadata": {
        "id": "z58Tx2tFP1Gu",
        "colab": {
          "base_uri": "https://localhost:8080/",
          "height": 55
        },
        "outputId": "fe77dbf5-8f91-4cc1-ee8f-ff90e66de013"
      },
      "source": [
        "min(dados), max(dados)"
      ],
      "execution_count": null,
      "outputs": [
        {
          "output_type": "execute_result",
          "data": {
            "text/plain": [
              "(126.0, 192.5)"
            ]
          },
          "metadata": {
            "tags": []
          },
          "execution_count": 26
        }
      ]
    },
    {
      "cell_type": "code",
      "metadata": {
        "id": "OZkWrwPpP8LJ",
        "colab": {
          "base_uri": "https://localhost:8080/",
          "height": 55
        },
        "outputId": "1bf0263a-ac6e-4d40-ba27-5059efa2e741"
      },
      "source": [
        "dados.mean()"
      ],
      "execution_count": null,
      "outputs": [
        {
          "output_type": "execute_result",
          "data": {
            "text/plain": [
              "159.25"
            ]
          },
          "metadata": {
            "tags": []
          },
          "execution_count": 27
        }
      ]
    },
    {
      "cell_type": "code",
      "metadata": {
        "id": "AqkAjrxmP_g-",
        "colab": {
          "base_uri": "https://localhost:8080/",
          "height": 55
        },
        "outputId": "1c881686-5518-4dd1-9922-3f48c939b559"
      },
      "source": [
        "np.median(dados)"
      ],
      "execution_count": null,
      "outputs": [
        {
          "output_type": "execute_result",
          "data": {
            "text/plain": [
              "159.25"
            ]
          },
          "metadata": {
            "tags": []
          },
          "execution_count": 28
        }
      ]
    },
    {
      "cell_type": "code",
      "metadata": {
        "id": "yFtsTvYHQEdg",
        "colab": {
          "base_uri": "https://localhost:8080/",
          "height": 55
        },
        "outputId": "3f6dc658-0615-4a09-b359-0fd60dcadefd"
      },
      "source": [
        "stats.mode(dados)"
      ],
      "execution_count": null,
      "outputs": [
        {
          "output_type": "execute_result",
          "data": {
            "text/plain": [
              "ModeResult(mode=array([157.5]), count=array([10]))"
            ]
          },
          "metadata": {
            "tags": []
          },
          "execution_count": 29
        }
      ]
    },
    {
      "cell_type": "code",
      "metadata": {
        "id": "ZNrQx6xQQhdY",
        "colab": {
          "base_uri": "https://localhost:8080/",
          "height": 55
        },
        "outputId": "4edbd7b1-a379-477b-fd63-a29b438d8d1c"
      },
      "source": [
        "159.25 + 13.65, 159.25 - 13.65"
      ],
      "execution_count": null,
      "outputs": [
        {
          "output_type": "execute_result",
          "data": {
            "text/plain": [
              "(172.9, 145.6)"
            ]
          },
          "metadata": {
            "tags": []
          },
          "execution_count": 31
        }
      ]
    },
    {
      "cell_type": "code",
      "metadata": {
        "id": "YIcXjLRHQM46",
        "colab": {
          "base_uri": "https://localhost:8080/",
          "height": 55
        },
        "outputId": "90719251-7d05-486f-9db9-9adacfb6a5d7"
      },
      "source": [
        "np.var(dados), np.std(dados), stats.variation(dados) * 100"
      ],
      "execution_count": null,
      "outputs": [
        {
          "output_type": "execute_result",
          "data": {
            "text/plain": [
              "(186.3225, 13.65, 8.571428571428571)"
            ]
          },
          "metadata": {
            "tags": []
          },
          "execution_count": 30
        }
      ]
    },
    {
      "cell_type": "code",
      "metadata": {
        "id": "W6-bDaN1Qtr5",
        "colab": {
          "base_uri": "https://localhost:8080/",
          "height": 285
        },
        "outputId": "9e07eb61-4fb0-4197-9dad-f225e8e3ef3e"
      },
      "source": [
        "sns.distplot(dados);"
      ],
      "execution_count": null,
      "outputs": [
        {
          "output_type": "display_data",
          "data": {
            "image/png": "[encoded data removed]",
            "text/plain": [
              "<Figure size 432x288 with 1 Axes>"
            ]
          },
          "metadata": {
            "tags": [],
            "needs_background": "light"
          }
        }
      ]
    },
    {
      "cell_type": "markdown",
      "metadata": {
        "id": "Lj7WRyupk6-U"
      },
      "source": [
        "### Enviesamento"
      ]
    },
    {
      "cell_type": "code",
      "metadata": {
        "id": "6LaEIB6ES70v"
      },
      "source": [
        "from scipy.stats import skewnorm"
      ],
      "execution_count": null,
      "outputs": []
    },
    {
      "cell_type": "code",
      "metadata": {
        "id": "HmhZu6-CTCDG"
      },
      "source": [
        "dados_normal = skewnorm.rvs(a = 0, size = 1000)"
      ],
      "execution_count": null,
      "outputs": []
    },
    {
      "cell_type": "code",
      "metadata": {
        "id": "N_CXKu2zTMr3",
        "colab": {
          "base_uri": "https://localhost:8080/",
          "height": 285
        },
        "outputId": "abd2c2eb-8f05-418d-be38-0788112d5233"
      },
      "source": [
        "sns.distplot(dados_normal);"
      ],
      "execution_count": null,
      "outputs": [
        {
          "output_type": "display_data",
          "data": {
            "image/png": "[encoded data removed]",
            "text/plain": [
              "<Figure size 432x288 with 1 Axes>"
            ]
          },
          "metadata": {
            "tags": [],
            "needs_background": "light"
          }
        }
      ]
    },
    {
      "cell_type": "code",
      "metadata": {
        "id": "P8zMrvaXTR4Y",
        "colab": {
          "base_uri": "https://localhost:8080/",
          "height": 90
        },
        "outputId": "c95fbc8e-c4db-40eb-d571-6de29754a922"
      },
      "source": [
        "dados_normal.mean(), np.median(dados_normal), stats.mode(dados_normal)"
      ],
      "execution_count": null,
      "outputs": [
        {
          "output_type": "execute_result",
          "data": {
            "text/plain": [
              "(0.02983935646916166,\n",
              " 0.03745125685140209,\n",
              " ModeResult(mode=array([-3.28855279]), count=array([1])))"
            ]
          },
          "metadata": {
            "tags": []
          },
          "execution_count": 39
        }
      ]
    },
    {
      "cell_type": "code",
      "metadata": {
        "id": "NqqBlTCJTn1T",
        "colab": {
          "base_uri": "https://localhost:8080/",
          "height": 285
        },
        "outputId": "1aab4fb9-79a9-4aa1-ce2d-15d34b160fe3"
      },
      "source": [
        "dados_normal_positivo = skewnorm.rvs(a = 10, size = 1000)\n",
        "sns.distplot(dados_normal_positivo);"
      ],
      "execution_count": null,
      "outputs": [
        {
          "output_type": "display_data",
          "data": {
            "image/png": "[encoded data removed]",
            "text/plain": [
              "<Figure size 432x288 with 1 Axes>"
            ]
          },
          "metadata": {
            "tags": [],
            "needs_background": "light"
          }
        }
      ]
    },
    {
      "cell_type": "code",
      "metadata": {
        "id": "DLgVRCkAT6D0",
        "colab": {
          "base_uri": "https://localhost:8080/",
          "height": 90
        },
        "outputId": "aa508c0d-9680-41b1-abc2-e1b8288b5c36"
      },
      "source": [
        "dados_normal_positivo.mean(), np.median(dados_normal_positivo), stats.mode(dados_normal_positivo)"
      ],
      "execution_count": null,
      "outputs": [
        {
          "output_type": "execute_result",
          "data": {
            "text/plain": [
              "(0.7664412387685727,\n",
              " 0.6407038084549848,\n",
              " ModeResult(mode=array([-0.16615302]), count=array([1])))"
            ]
          },
          "metadata": {
            "tags": []
          },
          "execution_count": 41
        }
      ]
    },
    {
      "cell_type": "code",
      "metadata": {
        "id": "fxkfQMvzUOyn",
        "colab": {
          "base_uri": "https://localhost:8080/",
          "height": 285
        },
        "outputId": "c3684728-ac39-4949-c9ac-c8eb903b38d2"
      },
      "source": [
        "dados_normal_negativo = skewnorm.rvs(-10, size = 1000)\n",
        "sns.distplot(dados_normal_negativo);"
      ],
      "execution_count": null,
      "outputs": [
        {
          "output_type": "display_data",
          "data": {
            "image/png": "[encoded data removed]",
            "text/plain": [
              "<Figure size 432x288 with 1 Axes>"
            ]
          },
          "metadata": {
            "tags": [],
            "needs_background": "light"
          }
        }
      ]
    },
    {
      "cell_type": "code",
      "metadata": {
        "id": "IFOPzVdnUbQC",
        "colab": {
          "base_uri": "https://localhost:8080/",
          "height": 90
        },
        "outputId": "c9c9df06-fe27-4915-9956-5f19726d256c"
      },
      "source": [
        "dados_normal_negativo.mean(), np.median(dados_normal_negativo), stats.mode(dados_normal_negativo)"
      ],
      "execution_count": null,
      "outputs": [
        {
          "output_type": "execute_result",
          "data": {
            "text/plain": [
              "(-0.7905071175026253,\n",
              " -0.6829473616455728,\n",
              " ModeResult(mode=array([-3.27369658]), count=array([1])))"
            ]
          },
          "metadata": {
            "tags": []
          },
          "execution_count": 43
        }
      ]
    },
    {
      "cell_type": "markdown",
      "metadata": {
        "id": "Q6YpuctzeiKh"
      },
      "source": [
        "### Distribuição normal padronizada"
      ]
    },
    {
      "cell_type": "code",
      "metadata": {
        "id": "00LaJvOWWmAh"
      },
      "source": [
        "dados_normal_padronizada = np.random.standard_normal(size = 1000)"
      ],
      "execution_count": null,
      "outputs": []
    },
    {
      "cell_type": "code",
      "metadata": {
        "id": "OpA7IjBhWxvT",
        "colab": {
          "base_uri": "https://localhost:8080/",
          "height": 55
        },
        "outputId": "e272d381-a105-43b2-8b94-28bed98e9506"
      },
      "source": [
        "min(dados_normal_padronizada), max(dados_normal_padronizada)"
      ],
      "execution_count": null,
      "outputs": [
        {
          "output_type": "execute_result",
          "data": {
            "text/plain": [
              "(-3.188932121355486, 3.5027901305616287)"
            ]
          },
          "metadata": {
            "tags": []
          },
          "execution_count": 45
        }
      ]
    },
    {
      "cell_type": "code",
      "metadata": {
        "id": "3s9yPrDzW3sO",
        "colab": {
          "base_uri": "https://localhost:8080/",
          "height": 288
        },
        "outputId": "a8f69ee6-91b6-419c-ef71-e8d0f760398e"
      },
      "source": [
        "sns.distplot(dados_normal_padronizada);"
      ],
      "execution_count": null,
      "outputs": [
        {
          "output_type": "display_data",
          "data": {
            "image/png": "[encoded data removed]",
            "text/plain": [
              "<Figure size 432x288 with 1 Axes>"
            ]
          },
          "metadata": {
            "tags": [],
            "needs_background": "light"
          }
        }
      ]
    },
    {
      "cell_type": "code",
      "metadata": {
        "id": "HMz-9cEIXC13",
        "colab": {
          "base_uri": "https://localhost:8080/",
          "height": 55
        },
        "outputId": "078b0baf-715c-4cf5-84a5-3db8c122296b"
      },
      "source": [
        "dados_normal_padronizada.mean(), np.std(dados_normal_padronizada)"
      ],
      "execution_count": null,
      "outputs": [
        {
          "output_type": "execute_result",
          "data": {
            "text/plain": [
              "(-0.017849889839620325, 1.0039199125040386)"
            ]
          },
          "metadata": {
            "tags": []
          },
          "execution_count": 48
        }
      ]
    },
    {
      "cell_type": "code",
      "metadata": {
        "id": "ZAVVAup6XYU2",
        "colab": {
          "base_uri": "https://localhost:8080/",
          "height": 248
        },
        "outputId": "76380908-acfa-46ca-e54e-d6252548b9b7"
      },
      "source": [
        "dados"
      ],
      "execution_count": null,
      "outputs": [
        {
          "output_type": "execute_result",
          "data": {
            "text/plain": [
              "array([126. , 129.5, 133. , 133. , 136.5, 136.5, 140. , 140. , 140. ,\n",
              "       140. , 143.5, 143.5, 143.5, 143.5, 143.5, 143.5, 147. , 147. ,\n",
              "       147. , 147. , 147. , 147. , 147. , 150.5, 150.5, 150.5, 150.5,\n",
              "       150.5, 150.5, 150.5, 150.5, 154. , 154. , 154. , 154. , 154. ,\n",
              "       154. , 154. , 154. , 154. , 157.5, 157.5, 157.5, 157.5, 157.5,\n",
              "       157.5, 157.5, 157.5, 157.5, 157.5, 161. , 161. , 161. , 161. ,\n",
              "       161. , 161. , 161. , 161. , 161. , 161. , 164.5, 164.5, 164.5,\n",
              "       164.5, 164.5, 164.5, 164.5, 164.5, 164.5, 168. , 168. , 168. ,\n",
              "       168. , 168. , 168. , 168. , 168. , 171.5, 171.5, 171.5, 171.5,\n",
              "       171.5, 171.5, 171.5, 175. , 175. , 175. , 175. , 175. , 175. ,\n",
              "       178.5, 178.5, 178.5, 178.5, 182. , 182. , 185.5, 185.5, 189. ,\n",
              "       192.5])"
            ]
          },
          "metadata": {
            "tags": []
          },
          "execution_count": 50
        }
      ]
    },
    {
      "cell_type": "code",
      "metadata": {
        "id": "wPr10k5TXdNW",
        "colab": {
          "base_uri": "https://localhost:8080/",
          "height": 55
        },
        "outputId": "77adc33b-3635-489e-b1a2-2c540cd48388"
      },
      "source": [
        "media = dados.mean()\n",
        "media"
      ],
      "execution_count": null,
      "outputs": [
        {
          "output_type": "execute_result",
          "data": {
            "text/plain": [
              "159.25"
            ]
          },
          "metadata": {
            "tags": []
          },
          "execution_count": 51
        }
      ]
    },
    {
      "cell_type": "code",
      "metadata": {
        "id": "wrzyIMg8Xgkz",
        "colab": {
          "base_uri": "https://localhost:8080/",
          "height": 55
        },
        "outputId": "b9e36e44-8332-48df-de5c-21e319a4a188"
      },
      "source": [
        "desvio_padrao = np.std(dados)\n",
        "desvio_padrao"
      ],
      "execution_count": null,
      "outputs": [
        {
          "output_type": "execute_result",
          "data": {
            "text/plain": [
              "13.65"
            ]
          },
          "metadata": {
            "tags": []
          },
          "execution_count": 52
        }
      ]
    },
    {
      "cell_type": "code",
      "metadata": {
        "id": "gcVcj7_jXpSs",
        "colab": {
          "base_uri": "https://localhost:8080/",
          "height": 389
        },
        "outputId": "8528de6e-ac3e-460b-d890-686664fa11ab"
      },
      "source": [
        "dados_padronizados = (dados - media) / desvio_padrao\n",
        "dados_padronizados"
      ],
      "execution_count": null,
      "outputs": [
        {
          "output_type": "execute_result",
          "data": {
            "text/plain": [
              "array([-2.43589744, -2.17948718, -1.92307692, -1.92307692, -1.66666667,\n",
              "       -1.66666667, -1.41025641, -1.41025641, -1.41025641, -1.41025641,\n",
              "       -1.15384615, -1.15384615, -1.15384615, -1.15384615, -1.15384615,\n",
              "       -1.15384615, -0.8974359 , -0.8974359 , -0.8974359 , -0.8974359 ,\n",
              "       -0.8974359 , -0.8974359 , -0.8974359 , -0.64102564, -0.64102564,\n",
              "       -0.64102564, -0.64102564, -0.64102564, -0.64102564, -0.64102564,\n",
              "       -0.64102564, -0.38461538, -0.38461538, -0.38461538, -0.38461538,\n",
              "       -0.38461538, -0.38461538, -0.38461538, -0.38461538, -0.38461538,\n",
              "       -0.12820513, -0.12820513, -0.12820513, -0.12820513, -0.12820513,\n",
              "       -0.12820513, -0.12820513, -0.12820513, -0.12820513, -0.12820513,\n",
              "        0.12820513,  0.12820513,  0.12820513,  0.12820513,  0.12820513,\n",
              "        0.12820513,  0.12820513,  0.12820513,  0.12820513,  0.12820513,\n",
              "        0.38461538,  0.38461538,  0.38461538,  0.38461538,  0.38461538,\n",
              "        0.38461538,  0.38461538,  0.38461538,  0.38461538,  0.64102564,\n",
              "        0.64102564,  0.64102564,  0.64102564,  0.64102564,  0.64102564,\n",
              "        0.64102564,  0.64102564,  0.8974359 ,  0.8974359 ,  0.8974359 ,\n",
              "        0.8974359 ,  0.8974359 ,  0.8974359 ,  0.8974359 ,  1.15384615,\n",
              "        1.15384615,  1.15384615,  1.15384615,  1.15384615,  1.15384615,\n",
              "        1.41025641,  1.41025641,  1.41025641,  1.41025641,  1.66666667,\n",
              "        1.66666667,  1.92307692,  1.92307692,  2.17948718,  2.43589744])"
            ]
          },
          "metadata": {
            "tags": []
          },
          "execution_count": 53
        }
      ]
    },
    {
      "cell_type": "code",
      "metadata": {
        "id": "2s1qPeFBXyUa",
        "colab": {
          "base_uri": "https://localhost:8080/",
          "height": 55
        },
        "outputId": "f45cbcee-ffe7-49f5-9d51-2bdf7626d04d"
      },
      "source": [
        "dados_padronizados.mean(), np.std(dados_padronizados)"
      ],
      "execution_count": null,
      "outputs": [
        {
          "output_type": "execute_result",
          "data": {
            "text/plain": [
              "(0.0, 0.9999999999999999)"
            ]
          },
          "metadata": {
            "tags": []
          },
          "execution_count": 54
        }
      ]
    },
    {
      "cell_type": "code",
      "metadata": {
        "id": "JwK1GcTIYDC4",
        "colab": {
          "base_uri": "https://localhost:8080/",
          "height": 285
        },
        "outputId": "592ba383-6983-42ae-fda5-42196ff96305"
      },
      "source": [
        "sns.distplot(dados_padronizados);"
      ],
      "execution_count": null,
      "outputs": [
        {
          "output_type": "display_data",
          "data": {
            "image/png": "[encoded data removed]",
            "text/plain": [
              "<Figure size 432x288 with 1 Axes>"
            ]
          },
          "metadata": {
            "tags": [],
            "needs_background": "light"
          }
        }
      ]
    },
    {
      "cell_type": "markdown",
      "metadata": {
        "id": "RD0U_cev-Svx"
      },
      "source": [
        "### Teorema central do limite\n",
        "\n",
        "- Quando o tamanho da amostra aumenta, a distribuição amostral da sua média aproxima-se cada vez mais de uma distribuição normal"
      ]
    },
    {
      "cell_type": "code",
      "metadata": {
        "id": "wnc1ed7ZYr3K",
        "colab": {
          "base_uri": "https://localhost:8080/",
          "height": 55
        },
        "outputId": "5a5254fb-075d-43e8-f86b-feef613e960f"
      },
      "source": [
        "alturas = np.random.randint(126, 192, 500)\n",
        "alturas.mean()"
      ],
      "execution_count": null,
      "outputs": [
        {
          "output_type": "execute_result",
          "data": {
            "text/plain": [
              "157.328"
            ]
          },
          "metadata": {
            "tags": []
          },
          "execution_count": 72
        }
      ]
    },
    {
      "cell_type": "code",
      "metadata": {
        "id": "NbjPD7ZdZDuQ",
        "colab": {
          "base_uri": "https://localhost:8080/",
          "height": 303
        },
        "outputId": "6b9ab5ed-731f-466b-ffdd-36e31ede87df"
      },
      "source": [
        "sns.distplot(alturas)"
      ],
      "execution_count": null,
      "outputs": [
        {
          "output_type": "execute_result",
          "data": {
            "text/plain": [
              "<matplotlib.axes._subplots.AxesSubplot at 0x7f3022213208>"
            ]
          },
          "metadata": {
            "tags": []
          },
          "execution_count": 73
        },
        {
          "output_type": "display_data",
          "data": {
            "image/png": "[encoded data removed]",
            "text/plain": [
              "<Figure size 432x288 with 1 Axes>"
            ]
          },
          "metadata": {
            "tags": [],
            "needs_background": "light"
          }
        }
      ]
    },
    {
      "cell_type": "code",
      "metadata": {
        "id": "IHzn9VUFZUju"
      },
      "source": [
        "medias = [np.mean(np.random.randint(126, 192, 500)) for _ in range(1000)]"
      ],
      "execution_count": null,
      "outputs": []
    },
    {
      "cell_type": "code",
      "metadata": {
        "id": "9X9poFxZZv7N",
        "colab": {
          "base_uri": "https://localhost:8080/",
          "height": 55
        },
        "outputId": "cadc2dab-bd4d-4387-c933-ce08cb467abe"
      },
      "source": [
        "type(medias), len(medias)"
      ],
      "execution_count": null,
      "outputs": [
        {
          "output_type": "execute_result",
          "data": {
            "text/plain": [
              "(list, 1000)"
            ]
          },
          "metadata": {
            "tags": []
          },
          "execution_count": 87
        }
      ]
    },
    {
      "cell_type": "code",
      "metadata": {
        "id": "5QFji2oVZzg7",
        "colab": {
          "base_uri": "https://localhost:8080/",
          "height": 55
        },
        "outputId": "79dfd464-d8c7-4e16-937d-93f717c4edac"
      },
      "source": [
        "print(medias)"
      ],
      "execution_count": null,
      "outputs": [
        {
          "output_type": "stream",
          "text": [
            "[158.842, 158.468, 158.48, 157.74, 159.18, 159.328, 158.246, 158.64, 158.778, 158.522, 157.728, 157.82, 157.322, 158.616, 158.156, 159.978, 159.37, 158.946, 158.854, 159.42, 159.284, 159.092, 157.63, 158.944, 158.878, 158.092, 158.362, 158.03, 158.556, 158.506, 159.196, 158.59, 158.552, 157.154, 157.972, 158.904, 158.068, 157.41, 157.982, 158.976, 157.978, 159.31, 158.898, 159.11, 158.928, 158.76, 157.924, 158.56, 158.514, 158.532, 157.896, 157.488, 158.38, 158.776, 158.85, 158.05, 157.714, 158.258, 157.95, 157.634, 159.168, 159.12, 158.524, 158.676, 157.332, 157.876, 158.522, 159.316, 158.78, 158.828, 159.184, 158.482, 158.274, 159.098, 158.738, 157.5, 159.606, 160.274, 157.688, 158.886, 157.906, 157.896, 158.106, 158.136, 158.562, 158.888, 158.25, 158.086, 158.696, 157.724, 157.224, 159.394, 158.194, 157.358, 159.456, 159.164, 158.016, 158.646, 159.814, 157.9, 157.96, 158.196, 157.796, 157.502, 157.09, 157.868, 157.846, 157.82, 158.818, 158.868, 158.828, 159.03, 158.082, 159.694, 159.518, 157.242, 157.476, 159.406, 158.928, 157.364, 157.592, 158.844, 159.354, 158.142, 158.074, 159.794, 159.168, 158.82, 159.668, 158.244, 158.426, 158.694, 158.976, 158.148, 156.962, 159.056, 159.266, 158.65, 156.824, 157.65, 157.868, 157.978, 158.452, 159.826, 157.482, 158.982, 158.632, 157.562, 158.05, 157.724, 157.788, 158.84, 157.878, 157.734, 158.36, 158.29, 159.43, 159.78, 157.456, 159.942, 159.04, 159.892, 157.132, 157.392, 159.65, 159.166, 158.016, 156.688, 159.466, 160.204, 159.318, 158.362, 160.06, 156.828, 158.88, 156.4, 157.33, 156.698, 157.87, 159.412, 158.314, 158.522, 158.526, 158.988, 156.914, 158.388, 158.414, 161.128, 157.18, 158.332, 159.896, 157.812, 157.75, 157.278, 157.588, 158.494, 158.854, 158.976, 159.512, 156.804, 157.288, 159.896, 158.588, 159.178, 160.184, 158.794, 159.23, 158.158, 159.078, 158.686, 158.242, 159.628, 158.878, 157.406, 158.338, 157.75, 158.168, 156.686, 159.388, 158.326, 157.99, 158.5, 159.988, 159.44, 158.03, 158.204, 158.068, 158.898, 158.814, 159.314, 158.926, 158.92, 159.79, 158.786, 158.71, 159.174, 159.268, 159.11, 159.972, 158.68, 157.612, 156.822, 158.048, 157.078, 160.118, 158.172, 159.574, 158.476, 158.626, 158.212, 159.676, 160.74, 157.75, 156.512, 158.366, 159.636, 158.872, 158.816, 157.648, 158.73, 159.12, 159.12, 159.594, 157.742, 158.35, 159.282, 160.468, 159.0, 157.898, 158.86, 160.204, 158.252, 159.008, 158.68, 157.668, 156.912, 157.796, 159.696, 158.744, 159.828, 160.04, 158.548, 158.718, 157.65, 158.698, 158.16, 159.052, 160.324, 158.304, 158.588, 157.662, 159.03, 158.41, 157.91, 158.938, 158.966, 157.114, 158.068, 157.504, 159.936, 158.738, 158.152, 159.332, 158.684, 159.18, 157.7, 157.782, 158.226, 157.462, 158.538, 158.342, 160.032, 158.518, 159.55, 157.256, 159.232, 158.806, 159.056, 157.456, 158.676, 159.58, 157.618, 158.328, 158.716, 158.636, 156.234, 156.638, 158.962, 157.872, 157.96, 159.83, 158.03, 159.15, 157.822, 158.636, 156.968, 158.062, 158.814, 158.49, 157.132, 158.532, 158.666, 159.392, 157.132, 158.74, 157.904, 159.024, 158.256, 158.02, 156.486, 158.872, 158.434, 157.288, 158.196, 157.994, 158.092, 156.952, 158.166, 156.18, 159.26, 158.802, 158.522, 157.73, 159.1, 158.318, 158.732, 158.672, 159.08, 158.614, 159.266, 156.97, 159.672, 158.588, 157.834, 159.148, 159.26, 158.874, 158.864, 156.732, 160.588, 159.008, 157.536, 159.008, 158.164, 157.77, 157.988, 156.67, 159.648, 158.924, 159.234, 158.29, 156.196, 157.994, 158.09, 160.036, 160.11, 158.568, 158.534, 157.478, 159.602, 157.924, 156.4, 158.578, 158.664, 157.19, 159.216, 158.418, 159.426, 158.47, 157.96, 158.404, 158.52, 160.136, 158.572, 157.382, 158.974, 159.274, 158.486, 158.192, 157.444, 159.46, 158.624, 158.056, 159.104, 158.962, 156.998, 157.706, 159.528, 159.482, 158.88, 158.482, 157.87, 158.444, 158.354, 159.988, 158.238, 159.546, 158.682, 158.088, 160.016, 157.368, 156.274, 159.148, 158.592, 158.318, 157.74, 160.018, 157.126, 160.328, 158.23, 157.604, 159.838, 158.686, 158.944, 158.284, 157.552, 159.286, 158.122, 159.454, 158.214, 158.382, 158.494, 157.83, 157.912, 160.016, 158.692, 159.456, 157.932, 158.676, 159.008, 158.114, 158.436, 159.032, 159.13, 158.594, 158.174, 159.08, 159.084, 158.386, 160.038, 157.782, 159.312, 159.748, 158.16, 158.094, 158.722, 158.82, 157.78, 158.592, 158.414, 158.222, 159.892, 158.332, 159.612, 159.054, 158.704, 157.992, 159.31, 157.188, 157.01, 157.722, 159.152, 159.218, 157.138, 158.812, 157.684, 158.708, 159.916, 158.912, 158.232, 159.014, 158.338, 158.698, 158.728, 158.692, 158.61, 158.51, 157.946, 158.496, 159.064, 158.88, 159.81, 157.906, 158.802, 159.312, 158.93, 156.858, 156.814, 158.756, 158.828, 157.178, 159.592, 158.006, 159.438, 158.226, 159.91, 159.022, 159.086, 159.322, 159.874, 158.424, 159.508, 158.654, 158.902, 157.694, 158.168, 158.572, 159.374, 157.854, 156.67, 158.25, 157.212, 158.68, 158.048, 159.336, 157.644, 157.872, 158.052, 159.098, 158.302, 157.272, 158.858, 158.118, 159.022, 158.396, 158.194, 158.806, 158.044, 158.876, 160.006, 158.626, 158.794, 157.722, 158.814, 157.748, 161.114, 158.732, 159.96, 159.942, 158.21, 160.532, 159.042, 158.324, 158.324, 158.676, 158.774, 159.616, 158.608, 158.264, 159.098, 157.884, 157.27, 159.598, 159.138, 157.69, 158.172, 159.844, 159.888, 157.788, 158.6, 158.876, 159.52, 159.052, 159.04, 159.234, 159.324, 158.342, 158.78, 157.186, 158.474, 160.184, 158.896, 158.894, 159.318, 158.188, 157.192, 157.9, 157.904, 157.544, 158.884, 159.07, 157.346, 158.434, 158.164, 157.43, 158.326, 157.88, 160.308, 158.74, 158.804, 159.444, 158.562, 158.174, 158.782, 157.14, 158.15, 159.244, 158.78, 158.664, 156.908, 156.726, 158.76, 157.858, 158.252, 158.836, 158.032, 159.384, 158.834, 158.388, 157.164, 158.708, 159.026, 157.446, 157.654, 158.354, 158.932, 157.596, 159.066, 157.852, 158.446, 157.914, 159.408, 157.774, 158.056, 157.828, 157.566, 158.054, 158.7, 159.136, 156.94, 158.354, 159.446, 158.864, 158.578, 158.868, 158.576, 158.974, 159.01, 158.316, 157.816, 159.356, 158.066, 158.686, 158.102, 156.97, 160.012, 158.734, 157.716, 157.802, 156.64, 159.616, 159.602, 159.496, 159.334, 157.778, 158.758, 158.634, 158.136, 158.722, 159.584, 159.326, 158.662, 159.2, 158.946, 159.308, 159.024, 159.614, 158.818, 156.77, 158.322, 157.814, 159.198, 159.322, 159.272, 160.278, 158.62, 159.046, 157.982, 158.74, 157.862, 158.73, 159.168, 157.83, 158.418, 158.782, 159.412, 156.93, 157.122, 157.704, 159.736, 159.03, 158.21, 158.03, 158.766, 159.882, 158.418, 157.558, 158.37, 159.556, 158.022, 158.532, 159.158, 158.446, 159.068, 158.734, 157.366, 158.69, 158.08, 158.572, 158.252, 159.11, 158.118, 158.394, 158.688, 159.104, 158.388, 156.344, 160.292, 157.322, 159.096, 157.604, 159.37, 159.466, 158.526, 157.416, 157.99, 158.12, 160.152, 158.602, 157.594, 159.818, 156.442, 159.894, 158.452, 159.4, 157.836, 156.998, 159.416, 158.562, 157.77, 159.94, 158.006, 159.424, 158.694, 159.026, 158.77, 158.144, 158.374, 157.816, 158.282, 158.242, 157.78, 160.036, 159.332, 158.056, 158.246, 159.092, 158.748, 158.17, 157.84, 157.498, 158.422, 157.948, 157.346, 158.044, 158.03, 158.838, 159.248, 159.302, 157.338, 156.946, 159.254, 158.466, 156.97, 157.814, 155.834, 159.48, 160.114, 158.418, 157.498, 158.342, 159.788, 157.93, 157.934, 159.596, 158.05, 160.03, 159.074, 159.136, 157.828, 158.042, 160.06, 159.176, 161.586, 159.478, 158.288, 158.984, 160.096, 157.92, 159.12, 158.062, 158.398, 158.672, 158.626, 157.948, 158.23, 158.144, 157.544, 159.594, 158.906, 156.724, 159.396, 159.564, 159.022, 157.994, 158.756, 158.776, 158.846, 158.054, 160.276, 158.63, 157.572, 159.41, 158.014, 158.474, 158.564, 157.99, 158.51, 158.292, 159.132, 159.068, 157.962, 159.866, 157.672, 159.31, 159.164, 158.256, 156.76, 158.678, 158.014, 160.256, 156.27, 158.034, 157.766, 158.134, 158.34, 158.596, 158.776, 157.842, 157.268, 157.87, 157.884, 159.704, 158.656, 157.544, 157.676, 158.05, 159.238, 159.234, 159.382, 159.856, 159.848, 157.556, 159.106, 156.854, 158.364, 158.974, 156.702, 158.596, 158.79, 157.716, 157.352, 158.436, 159.88, 158.814, 158.56, 158.324, 158.712, 158.19, 158.108, 159.04, 159.214, 158.314, 157.968, 159.176, 158.668, 157.606, 160.198, 158.368, 157.492, 160.266, 157.326, 157.596, 157.232, 159.504, 158.598, 158.368, 159.016, 157.336, 157.214, 159.21, 156.926, 159.218, 158.498, 158.72, 157.752, 158.61, 158.578, 159.654, 158.346, 157.982, 159.256, 159.44, 158.56, 157.652, 158.61, 159.102, 158.264, 158.588, 157.536, 158.988, 157.798, 158.312, 158.412, 158.042, 158.718, 158.054, 158.57, 160.622, 157.226, 158.436, 158.104, 158.858, 157.846, 158.658, 160.002, 158.528, 156.826, 159.938, 160.238, 158.664, 157.384, 158.334, 159.044, 158.514, 158.294, 159.138, 158.51, 157.542, 158.48, 158.252, 158.514, 158.37, 157.362, 159.854, 157.772, 158.176, 159.574, 159.436, 158.004]\n"
          ],
          "name": "stdout"
        }
      ]
    },
    {
      "cell_type": "code",
      "metadata": {
        "id": "U-IzcN4AZ2nq",
        "colab": {
          "base_uri": "https://localhost:8080/",
          "height": 285
        },
        "outputId": "10d513d2-e915-4dc0-bd42-8122f39e5514"
      },
      "source": [
        "sns.distplot(medias);"
      ],
      "execution_count": null,
      "outputs": [
        {
          "output_type": "display_data",
          "data": {
            "image/png": "[encoded data removed]",
            "text/plain": [
              "<Figure size 432x288 with 1 Axes>"
            ]
          },
          "metadata": {
            "tags": [],
            "needs_background": "light"
          }
        }
      ]
    },
    {
      "cell_type": "markdown",
      "metadata": {
        "id": "lJDetVizgAKp"
      },
      "source": [
        "### Distribuição gamma\n",
        "\n",
        "- Distribuição geral com valores assimétricos à direita\n",
        "- Análise de tempo de vida de produtos\n",
        "- Inadimplência com valores agregados\n",
        "- Quantidade de chuva acumulada em um reservatório\n",
        "- Tempo de reação de um motorista de acordo com a idade"
      ]
    },
    {
      "cell_type": "code",
      "metadata": {
        "id": "gncdL30b91me"
      },
      "source": [
        "from scipy.stats import gamma"
      ],
      "execution_count": null,
      "outputs": []
    },
    {
      "cell_type": "code",
      "metadata": {
        "id": "IzVzQj1C-sSz"
      },
      "source": [
        "dados_gama = gamma.rvs(a = 5, size = 1000)"
      ],
      "execution_count": null,
      "outputs": []
    },
    {
      "cell_type": "code",
      "metadata": {
        "id": "NxpComQa-0HW",
        "colab": {
          "base_uri": "https://localhost:8080/",
          "height": 285
        },
        "outputId": "0f0a7d9c-edf3-44fa-be17-8e3bf9d6837b"
      },
      "source": [
        "sns.distplot(dados_gama);"
      ],
      "execution_count": null,
      "outputs": [
        {
          "output_type": "display_data",
          "data": {
            "image/png": "[encoded data removed]",
            "text/plain": [
              "<Figure size 432x288 with 1 Axes>"
            ]
          },
          "metadata": {
            "tags": [],
            "needs_background": "light"
          }
        }
      ]
    },
    {
      "cell_type": "code",
      "metadata": {
        "id": "_5fysL6Y_tdY",
        "colab": {
          "base_uri": "https://localhost:8080/",
          "height": 55
        },
        "outputId": "80e305e9-7ef1-4533-c2de-d40164ebcc84"
      },
      "source": [
        "min(dados_gama), max(dados_gama)"
      ],
      "execution_count": null,
      "outputs": [
        {
          "output_type": "execute_result",
          "data": {
            "text/plain": [
              "(0.4334349187777889, 13.105107577223778)"
            ]
          },
          "metadata": {
            "tags": []
          },
          "execution_count": 13
        }
      ]
    },
    {
      "cell_type": "markdown",
      "metadata": {
        "id": "bXAndLXAAJpp"
      },
      "source": [
        "### Distribuição exponencial\n",
        "\n",
        "- É um tipo da distribuição gama\n",
        "- Tempo de vida de certos produtos e materiais\n",
        "- Tempo de vida de óleos isolantes e dielétricos, entre outros"
      ]
    },
    {
      "cell_type": "code",
      "metadata": {
        "id": "zEVD0cVbAKde"
      },
      "source": [
        "from scipy.stats import expon"
      ],
      "execution_count": null,
      "outputs": []
    },
    {
      "cell_type": "code",
      "metadata": {
        "id": "ZgHtnCWJAb7_"
      },
      "source": [
        "dados_exponencial = expon.rvs(size = 1000)"
      ],
      "execution_count": null,
      "outputs": []
    },
    {
      "cell_type": "code",
      "metadata": {
        "id": "SGLpOCVrAiFW",
        "colab": {
          "base_uri": "https://localhost:8080/",
          "height": 285
        },
        "outputId": "170da368-382e-43f4-cb50-24909c5caf50"
      },
      "source": [
        "sns.distplot(dados_exponencial);"
      ],
      "execution_count": null,
      "outputs": [
        {
          "output_type": "display_data",
          "data": {
            "image/png": "[encoded data removed]",
            "text/plain": [
              "<Figure size 432x288 with 1 Axes>"
            ]
          },
          "metadata": {
            "tags": [],
            "needs_background": "light"
          }
        }
      ]
    },
    {
      "cell_type": "code",
      "metadata": {
        "id": "4vqU927rAwzd",
        "colab": {
          "base_uri": "https://localhost:8080/",
          "height": 55
        },
        "outputId": "c596a43e-032b-41f3-e40c-3c8a81fe3e87"
      },
      "source": [
        "min(dados_exponencial), max(dados_exponencial)"
      ],
      "execution_count": null,
      "outputs": [
        {
          "output_type": "execute_result",
          "data": {
            "text/plain": [
              "(0.001305994110157153, 7.102208239133899)"
            ]
          },
          "metadata": {
            "tags": []
          },
          "execution_count": 21
        }
      ]
    },
    {
      "cell_type": "markdown",
      "metadata": {
        "id": "1KzQWMuyBGD5"
      },
      "source": [
        "### Distribuição uniforme\n",
        "\n",
        "- Os números da distribuição possuem a mesma probabilidade\n",
        "- Probabilidade de peças com defeitos em um lote com determinada quantidade de peças\n",
        "- Geração de números aleatórios em linguagens de programação"
      ]
    },
    {
      "cell_type": "code",
      "metadata": {
        "id": "osIrxTmJBH9T"
      },
      "source": [
        "from scipy.stats import uniform"
      ],
      "execution_count": null,
      "outputs": []
    },
    {
      "cell_type": "code",
      "metadata": {
        "id": "LS6WGwZ7BXLV"
      },
      "source": [
        "dados_uniforme = uniform.rvs(size = 1000)"
      ],
      "execution_count": null,
      "outputs": []
    },
    {
      "cell_type": "code",
      "metadata": {
        "id": "6XF8nJhvBeAM",
        "colab": {
          "base_uri": "https://localhost:8080/",
          "height": 285
        },
        "outputId": "5c079f97-3b22-403d-e824-e0d2170f2dc5"
      },
      "source": [
        "sns.distplot(dados_uniforme);"
      ],
      "execution_count": null,
      "outputs": [
        {
          "output_type": "display_data",
          "data": {
            "image/png": "[encoded data removed]",
            "text/plain": [
              "<Figure size 432x288 with 1 Axes>"
            ]
          },
          "metadata": {
            "tags": [],
            "needs_background": "light"
          }
        }
      ]
    },
    {
      "cell_type": "code",
      "metadata": {
        "id": "P35bL_CsB0kM",
        "colab": {
          "base_uri": "https://localhost:8080/",
          "height": 55
        },
        "outputId": "9f7a60b5-7c34-46b0-dfca-ff0b293df648"
      },
      "source": [
        "min(dados_uniforme), max(dados_uniforme)"
      ],
      "execution_count": null,
      "outputs": [
        {
          "output_type": "execute_result",
          "data": {
            "text/plain": [
              "(0.00018039241168688047, 0.999419687136789)"
            ]
          },
          "metadata": {
            "tags": []
          },
          "execution_count": 25
        }
      ]
    },
    {
      "cell_type": "code",
      "metadata": {
        "id": "6z-SnfKHB5TX"
      },
      "source": [
        "np.unique(dados_uniforme, return_counts=True)"
      ],
      "execution_count": null,
      "outputs": []
    },
    {
      "cell_type": "code",
      "metadata": {
        "id": "x8vM8z4sCcB9",
        "colab": {
          "base_uri": "https://localhost:8080/",
          "height": 55
        },
        "outputId": "c94fcab9-a960-4dcc-dee7-8435c5b36c6a"
      },
      "source": [
        "dataset = pd.read_csv('credit_data.csv')\n",
        "dataset.dropna(inplace=True)\n",
        "dataset.shape"
      ],
      "execution_count": null,
      "outputs": [
        {
          "output_type": "execute_result",
          "data": {
            "text/plain": [
              "(1997, 5)"
            ]
          },
          "metadata": {
            "tags": []
          },
          "execution_count": 30
        }
      ]
    },
    {
      "cell_type": "code",
      "metadata": {
        "id": "UsaCLFHPCtdY",
        "colab": {
          "base_uri": "https://localhost:8080/",
          "height": 228
        },
        "outputId": "45484fd6-6885-4ed7-dcf6-fb53e2b042e3"
      },
      "source": [
        "dataset.head()"
      ],
      "execution_count": null,
      "outputs": [
        {
          "output_type": "execute_result",
          "data": {
            "text/html": [
              "<div>\n",
              "<style scoped>\n",
              "    .dataframe tbody tr th:only-of-type {\n",
              "        vertical-align: middle;\n",
              "    }\n",
              "\n",
              "    .dataframe tbody tr th {\n",
              "        vertical-align: top;\n",
              "    }\n",
              "\n",
              "    .dataframe thead th {\n",
              "        text-align: right;\n",
              "    }\n",
              "</style>\n",
              "<table border=\"1\" class=\"dataframe\">\n",
              "  <thead>\n",
              "    <tr style=\"text-align: right;\">\n",
              "      <th></th>\n",
              "      <th>i#clientid</th>\n",
              "      <th>income</th>\n",
              "      <th>age</th>\n",
              "      <th>loan</th>\n",
              "      <th>c#default</th>\n",
              "    </tr>\n",
              "  </thead>\n",
              "  <tbody>\n",
              "    <tr>\n",
              "      <th>0</th>\n",
              "      <td>1</td>\n",
              "      <td>66155.925095</td>\n",
              "      <td>59.017015</td>\n",
              "      <td>8106.532131</td>\n",
              "      <td>0</td>\n",
              "    </tr>\n",
              "    <tr>\n",
              "      <th>1</th>\n",
              "      <td>2</td>\n",
              "      <td>34415.153966</td>\n",
              "      <td>48.117153</td>\n",
              "      <td>6564.745018</td>\n",
              "      <td>0</td>\n",
              "    </tr>\n",
              "    <tr>\n",
              "      <th>2</th>\n",
              "      <td>3</td>\n",
              "      <td>57317.170063</td>\n",
              "      <td>63.108049</td>\n",
              "      <td>8020.953296</td>\n",
              "      <td>0</td>\n",
              "    </tr>\n",
              "    <tr>\n",
              "      <th>3</th>\n",
              "      <td>4</td>\n",
              "      <td>42709.534201</td>\n",
              "      <td>45.751972</td>\n",
              "      <td>6103.642260</td>\n",
              "      <td>0</td>\n",
              "    </tr>\n",
              "    <tr>\n",
              "      <th>4</th>\n",
              "      <td>5</td>\n",
              "      <td>66952.688845</td>\n",
              "      <td>18.584336</td>\n",
              "      <td>8770.099235</td>\n",
              "      <td>1</td>\n",
              "    </tr>\n",
              "  </tbody>\n",
              "</table>\n",
              "</div>"
            ],
            "text/plain": [
              "   i#clientid        income        age         loan  c#default\n",
              "0           1  66155.925095  59.017015  8106.532131          0\n",
              "1           2  34415.153966  48.117153  6564.745018          0\n",
              "2           3  57317.170063  63.108049  8020.953296          0\n",
              "3           4  42709.534201  45.751972  6103.642260          0\n",
              "4           5  66952.688845  18.584336  8770.099235          1"
            ]
          },
          "metadata": {
            "tags": []
          },
          "execution_count": 31
        }
      ]
    },
    {
      "cell_type": "code",
      "metadata": {
        "id": "tN3wtODKCgVT",
        "colab": {
          "base_uri": "https://localhost:8080/",
          "height": 160
        },
        "outputId": "13a74212-2a9f-4cb0-fd7e-2cad19941ae7"
      },
      "source": [
        "X = dataset.iloc[:, 1:4].values\n",
        "X"
      ],
      "execution_count": null,
      "outputs": [
        {
          "output_type": "execute_result",
          "data": {
            "text/plain": [
              "array([[6.61559251e+04, 5.90170151e+01, 8.10653213e+03],\n",
              "       [3.44151540e+04, 4.81171531e+01, 6.56474502e+03],\n",
              "       [5.73171701e+04, 6.31080495e+01, 8.02095330e+03],\n",
              "       ...,\n",
              "       [4.43114493e+04, 2.80171669e+01, 5.52278669e+03],\n",
              "       [4.37560566e+04, 6.39717958e+01, 1.62272260e+03],\n",
              "       [6.94365796e+04, 5.61526170e+01, 7.37883360e+03]])"
            ]
          },
          "metadata": {
            "tags": []
          },
          "execution_count": 32
        }
      ]
    },
    {
      "cell_type": "code",
      "metadata": {
        "id": "igaSLJZ1CjT_",
        "colab": {
          "base_uri": "https://localhost:8080/",
          "height": 55
        },
        "outputId": "42c72d4d-7fee-4ba9-a607-d19421689d2b"
      },
      "source": [
        "y = dataset.iloc[:, 4].values\n",
        "y"
      ],
      "execution_count": null,
      "outputs": [
        {
          "output_type": "execute_result",
          "data": {
            "text/plain": [
              "array([0, 0, 0, ..., 1, 0, 0])"
            ]
          },
          "metadata": {
            "tags": []
          },
          "execution_count": 33
        }
      ]
    },
    {
      "cell_type": "code",
      "metadata": {
        "id": "HN7anuwLClfN"
      },
      "source": [
        "from sklearn.naive_bayes import GaussianNB\n",
        "from sklearn.metrics import accuracy_score\n",
        "from sklearn.model_selection import train_test_split"
      ],
      "execution_count": null,
      "outputs": []
    },
    {
      "cell_type": "code",
      "metadata": {
        "id": "YIsH_qSYCnsW"
      },
      "source": [
        "resultados_naive_bayes = []\n",
        "for i in range(30):\n",
        "  X_treinamento, X_teste, y_treinamento, y_teste = train_test_split(X, y, test_size = 0.2, \n",
        "                                                                    stratify = y, random_state = i)\n",
        "  naive_bayes = GaussianNB()\n",
        "  naive_bayes.fit(X_treinamento, y_treinamento)\n",
        "  resultados_naive_bayes.append(accuracy_score(y_teste, naive_bayes.predict(X_teste)))"
      ],
      "execution_count": null,
      "outputs": []
    },
    {
      "cell_type": "code",
      "metadata": {
        "id": "eJc6pOKnCqBv",
        "colab": {
          "base_uri": "https://localhost:8080/",
          "height": 55
        },
        "outputId": "df4b9a5e-0204-4047-c7c4-45631d47d937"
      },
      "source": [
        "print(resultados_naive_bayes)"
      ],
      "execution_count": null,
      "outputs": [
        {
          "output_type": "stream",
          "text": [
            "[0.925, 0.925, 0.9325, 0.925, 0.92, 0.905, 0.9175, 0.9175, 0.9125, 0.9325, 0.9225, 0.9125, 0.935, 0.9175, 0.925, 0.9175, 0.9275, 0.92, 0.9325, 0.92, 0.93, 0.905, 0.9175, 0.9325, 0.9425, 0.9375, 0.94, 0.92, 0.935, 0.925]\n"
          ],
          "name": "stdout"
        }
      ]
    },
    {
      "cell_type": "code",
      "metadata": {
        "id": "4lilyqspDnxw",
        "colab": {
          "base_uri": "https://localhost:8080/",
          "height": 285
        },
        "outputId": "ba819122-05f4-4bb9-e582-1c752ada81b3"
      },
      "source": [
        "sns.distplot(resultados_naive_bayes, bins = 10);"
      ],
      "execution_count": null,
      "outputs": [
        {
          "output_type": "display_data",
          "data": {
            "image/png": "[encoded data removed]",
            "text/plain": [
              "<Figure size 432x288 with 1 Axes>"
            ]
          },
          "metadata": {
            "tags": [],
            "needs_background": "light"
          }
        }
      ]
    },
    {
      "cell_type": "markdown",
      "metadata": {
        "id": "GMhbY9sOEkp4"
      },
      "source": [
        "## Variáveis discretas"
      ]
    },
    {
      "cell_type": "markdown",
      "metadata": {
        "id": "e7ts59nMEoZa"
      },
      "source": [
        "### Distribuição de Bernoulli\n",
        "\n",
        "- Tipo específico da distribuição binomial\n",
        "- Possui somente duas respostas: sucesso ou fracasso"
      ]
    },
    {
      "cell_type": "code",
      "metadata": {
        "id": "FIxlT_bEFStG"
      },
      "source": [
        "from scipy.stats import bernoulli"
      ],
      "execution_count": null,
      "outputs": []
    },
    {
      "cell_type": "code",
      "metadata": {
        "id": "ksh3Rt9ZFcG7"
      },
      "source": [
        "dados_bernoulli = bernoulli.rvs(size = 1000, p = 0.3)"
      ],
      "execution_count": null,
      "outputs": []
    },
    {
      "cell_type": "code",
      "metadata": {
        "id": "-X3T8hioFo-P"
      },
      "source": [
        "dados_bernoulli"
      ],
      "execution_count": null,
      "outputs": []
    },
    {
      "cell_type": "code",
      "metadata": {
        "id": "0INMyN1bFvHd",
        "colab": {
          "base_uri": "https://localhost:8080/",
          "height": 55
        },
        "outputId": "ed8ef12f-f2ab-4e8b-fc66-c89bd3b525ef"
      },
      "source": [
        "np.unique(dados_bernoulli, return_counts=True)"
      ],
      "execution_count": null,
      "outputs": [
        {
          "output_type": "execute_result",
          "data": {
            "text/plain": [
              "(array([0, 1]), array([712, 288]))"
            ]
          },
          "metadata": {
            "tags": []
          },
          "execution_count": 54
        }
      ]
    },
    {
      "cell_type": "code",
      "metadata": {
        "id": "_gMEZCqvF6kM",
        "colab": {
          "base_uri": "https://localhost:8080/",
          "height": 285
        },
        "outputId": "e74f7403-c67b-487f-b474-4284ac32aa10"
      },
      "source": [
        "sns.distplot(dados_bernoulli, kde=False);"
      ],
      "execution_count": null,
      "outputs": [
        {
          "output_type": "display_data",
          "data": {
            "image/png": "[encoded data removed]",
            "text/plain": [
              "<Figure size 432x288 with 1 Axes>"
            ]
          },
          "metadata": {
            "tags": [],
            "needs_background": "light"
          }
        }
      ]
    },
    {
      "cell_type": "markdown",
      "metadata": {
        "id": "NP48hJGkGinV"
      },
      "source": [
        "### Distribuição binomial\n",
        "\n",
        "- Somente duas possibilidades (sucesso ou falha)\n",
        "- Probabilidade de sucesso ou falha"
      ]
    },
    {
      "cell_type": "code",
      "metadata": {
        "id": "f-eSsGCPGjas"
      },
      "source": [
        "from scipy.stats import binom"
      ],
      "execution_count": null,
      "outputs": []
    },
    {
      "cell_type": "code",
      "metadata": {
        "id": "_-qjAVP1HtJq"
      },
      "source": [
        "dados_binomial = binom.rvs(size = 1000, n = 10, p = 0.8)"
      ],
      "execution_count": null,
      "outputs": []
    },
    {
      "cell_type": "code",
      "metadata": {
        "id": "weS-b3yWIKxu",
        "colab": {
          "base_uri": "https://localhost:8080/",
          "height": 72
        },
        "outputId": "0e7b67f4-1014-4b07-e50b-ab1ede925d10"
      },
      "source": [
        "np.unique(dados_binomial, return_counts=True)"
      ],
      "execution_count": null,
      "outputs": [
        {
          "output_type": "execute_result",
          "data": {
            "text/plain": [
              "(array([ 4,  5,  6,  7,  8,  9, 10]),\n",
              " array([  4,  28,  86, 185, 320, 266, 111]))"
            ]
          },
          "metadata": {
            "tags": []
          },
          "execution_count": 79
        }
      ]
    },
    {
      "cell_type": "code",
      "metadata": {
        "id": "aFSlHX4bH7lj"
      },
      "source": [
        "print(dados_binomial)"
      ],
      "execution_count": null,
      "outputs": []
    },
    {
      "cell_type": "code",
      "metadata": {
        "id": "CbNwwvI0Igoj",
        "colab": {
          "base_uri": "https://localhost:8080/",
          "height": 285
        },
        "outputId": "83eb72f4-f4fc-4281-ecee-cc2c69b8558d"
      },
      "source": [
        "sns.distplot(dados_binomial, kde=False);"
      ],
      "execution_count": null,
      "outputs": [
        {
          "output_type": "display_data",
          "data": {
            "image/png": "[encoded data removed]",
            "text/plain": [
              "<Figure size 432x288 with 1 Axes>"
            ]
          },
          "metadata": {
            "tags": [],
            "needs_background": "light"
          }
        }
      ]
    },
    {
      "cell_type": "markdown",
      "metadata": {
        "id": "uAQ9mvfwJfeT"
      },
      "source": [
        "### Distribuição de Poisson\n",
        "\n",
        "- Número de vezes que um evento aconteceu em um intervalo de tempo\n",
        "- Exemplo: número de usuários que visitaram um website em um intervalo\n",
        "- Quantidade de vezes que um evento aconteceu nesse intervalo (número de ligações em um call center)"
      ]
    },
    {
      "cell_type": "code",
      "metadata": {
        "id": "1ifxy60QJgQN"
      },
      "source": [
        "from scipy.stats import poisson"
      ],
      "execution_count": null,
      "outputs": []
    },
    {
      "cell_type": "code",
      "metadata": {
        "id": "otMfBUO-J0Cr"
      },
      "source": [
        "dados_poisson = poisson.rvs(size = 1000, mu = 1)"
      ],
      "execution_count": null,
      "outputs": []
    },
    {
      "cell_type": "code",
      "metadata": {
        "id": "uhSNa_CiJ7ju",
        "colab": {
          "base_uri": "https://localhost:8080/",
          "height": 55
        },
        "outputId": "395dbe7d-8b0d-4bd5-f9f3-621efe55a9b9"
      },
      "source": [
        "min(dados_poisson), max(dados_poisson)"
      ],
      "execution_count": null,
      "outputs": [
        {
          "output_type": "execute_result",
          "data": {
            "text/plain": [
              "(0, 5)"
            ]
          },
          "metadata": {
            "tags": []
          },
          "execution_count": 93
        }
      ]
    },
    {
      "cell_type": "code",
      "metadata": {
        "id": "1TRc7qrVKO7f",
        "colab": {
          "base_uri": "https://localhost:8080/",
          "height": 55
        },
        "outputId": "b24dc3f1-be4f-497a-d73f-8a594d8d4480"
      },
      "source": [
        "np.unique(dados_poisson, return_counts=True)"
      ],
      "execution_count": null,
      "outputs": [
        {
          "output_type": "execute_result",
          "data": {
            "text/plain": [
              "(array([0, 1, 2, 3, 4, 5]), array([347, 378, 191,  66,  15,   3]))"
            ]
          },
          "metadata": {
            "tags": []
          },
          "execution_count": 94
        }
      ]
    },
    {
      "cell_type": "code",
      "metadata": {
        "id": "BJ6bYaEyKVmo",
        "colab": {
          "base_uri": "https://localhost:8080/",
          "height": 285
        },
        "outputId": "5b9d2f26-75fe-4cc5-b7f1-57533201f7a8"
      },
      "source": [
        "sns.distplot(dados_poisson, kde=False);"
      ],
      "execution_count": null,
      "outputs": [
        {
          "output_type": "display_data",
          "data": {
            "image/png": "[encoded data removed]",
            "text/plain": [
              "<Figure size 432x288 with 1 Axes>"
            ]
          },
          "metadata": {
            "tags": [],
            "needs_background": "light"
          }
        }
      ]
    },
    {
      "cell_type": "markdown",
      "metadata": {
        "id": "GydnuNBsLJNn"
      },
      "source": [
        "## Exercício"
      ]
    },
    {
      "cell_type": "code",
      "metadata": {
        "id": "1MCrTfxwLKm2",
        "colab": {
          "base_uri": "https://localhost:8080/",
          "height": 351
        },
        "outputId": "a432871c-06eb-4789-eb17-998e3b87c99f"
      },
      "source": [
        "dataset = pd.read_csv('census.csv')\n",
        "dataset.head()"
      ],
      "execution_count": null,
      "outputs": [
        {
          "output_type": "execute_result",
          "data": {
            "text/html": [
              "<div>\n",
              "<style scoped>\n",
              "    .dataframe tbody tr th:only-of-type {\n",
              "        vertical-align: middle;\n",
              "    }\n",
              "\n",
              "    .dataframe tbody tr th {\n",
              "        vertical-align: top;\n",
              "    }\n",
              "\n",
              "    .dataframe thead th {\n",
              "        text-align: right;\n",
              "    }\n",
              "</style>\n",
              "<table border=\"1\" class=\"dataframe\">\n",
              "  <thead>\n",
              "    <tr style=\"text-align: right;\">\n",
              "      <th></th>\n",
              "      <th>age</th>\n",
              "      <th>workclass</th>\n",
              "      <th>final-weight</th>\n",
              "      <th>education</th>\n",
              "      <th>education-num</th>\n",
              "      <th>marital-status</th>\n",
              "      <th>occupation</th>\n",
              "      <th>relationship</th>\n",
              "      <th>race</th>\n",
              "      <th>sex</th>\n",
              "      <th>capital-gain</th>\n",
              "      <th>capital-loos</th>\n",
              "      <th>hour-per-week</th>\n",
              "      <th>native-country</th>\n",
              "      <th>income</th>\n",
              "    </tr>\n",
              "  </thead>\n",
              "  <tbody>\n",
              "    <tr>\n",
              "      <th>0</th>\n",
              "      <td>39</td>\n",
              "      <td>State-gov</td>\n",
              "      <td>77516</td>\n",
              "      <td>Bachelors</td>\n",
              "      <td>13</td>\n",
              "      <td>Never-married</td>\n",
              "      <td>Adm-clerical</td>\n",
              "      <td>Not-in-family</td>\n",
              "      <td>White</td>\n",
              "      <td>Male</td>\n",
              "      <td>2174</td>\n",
              "      <td>0</td>\n",
              "      <td>40</td>\n",
              "      <td>United-States</td>\n",
              "      <td>&lt;=50K</td>\n",
              "    </tr>\n",
              "    <tr>\n",
              "      <th>1</th>\n",
              "      <td>50</td>\n",
              "      <td>Self-emp-not-inc</td>\n",
              "      <td>83311</td>\n",
              "      <td>Bachelors</td>\n",
              "      <td>13</td>\n",
              "      <td>Married-civ-spouse</td>\n",
              "      <td>Exec-managerial</td>\n",
              "      <td>Husband</td>\n",
              "      <td>White</td>\n",
              "      <td>Male</td>\n",
              "      <td>0</td>\n",
              "      <td>0</td>\n",
              "      <td>13</td>\n",
              "      <td>United-States</td>\n",
              "      <td>&lt;=50K</td>\n",
              "    </tr>\n",
              "    <tr>\n",
              "      <th>2</th>\n",
              "      <td>38</td>\n",
              "      <td>Private</td>\n",
              "      <td>215646</td>\n",
              "      <td>HS-grad</td>\n",
              "      <td>9</td>\n",
              "      <td>Divorced</td>\n",
              "      <td>Handlers-cleaners</td>\n",
              "      <td>Not-in-family</td>\n",
              "      <td>White</td>\n",
              "      <td>Male</td>\n",
              "      <td>0</td>\n",
              "      <td>0</td>\n",
              "      <td>40</td>\n",
              "      <td>United-States</td>\n",
              "      <td>&lt;=50K</td>\n",
              "    </tr>\n",
              "    <tr>\n",
              "      <th>3</th>\n",
              "      <td>53</td>\n",
              "      <td>Private</td>\n",
              "      <td>234721</td>\n",
              "      <td>11th</td>\n",
              "      <td>7</td>\n",
              "      <td>Married-civ-spouse</td>\n",
              "      <td>Handlers-cleaners</td>\n",
              "      <td>Husband</td>\n",
              "      <td>Black</td>\n",
              "      <td>Male</td>\n",
              "      <td>0</td>\n",
              "      <td>0</td>\n",
              "      <td>40</td>\n",
              "      <td>United-States</td>\n",
              "      <td>&lt;=50K</td>\n",
              "    </tr>\n",
              "    <tr>\n",
              "      <th>4</th>\n",
              "      <td>28</td>\n",
              "      <td>Private</td>\n",
              "      <td>338409</td>\n",
              "      <td>Bachelors</td>\n",
              "      <td>13</td>\n",
              "      <td>Married-civ-spouse</td>\n",
              "      <td>Prof-specialty</td>\n",
              "      <td>Wife</td>\n",
              "      <td>Black</td>\n",
              "      <td>Female</td>\n",
              "      <td>0</td>\n",
              "      <td>0</td>\n",
              "      <td>40</td>\n",
              "      <td>Cuba</td>\n",
              "      <td>&lt;=50K</td>\n",
              "    </tr>\n",
              "  </tbody>\n",
              "</table>\n",
              "</div>"
            ],
            "text/plain": [
              "   age          workclass  final-weight  ... hour-per-week  native-country  income\n",
              "0   39          State-gov         77516  ...            40   United-States   <=50K\n",
              "1   50   Self-emp-not-inc         83311  ...            13   United-States   <=50K\n",
              "2   38            Private        215646  ...            40   United-States   <=50K\n",
              "3   53            Private        234721  ...            40   United-States   <=50K\n",
              "4   28            Private        338409  ...            40            Cuba   <=50K\n",
              "\n",
              "[5 rows x 15 columns]"
            ]
          },
          "metadata": {
            "tags": []
          },
          "execution_count": 2
        }
      ]
    },
    {
      "cell_type": "code",
      "metadata": {
        "id": "u_T64Jx5LPPZ",
        "colab": {
          "base_uri": "https://localhost:8080/",
          "height": 319
        },
        "outputId": "14f07ee0-4625-4bf2-8c51-497efa84d48b"
      },
      "source": [
        "dataset.dtypes"
      ],
      "execution_count": null,
      "outputs": [
        {
          "output_type": "execute_result",
          "data": {
            "text/plain": [
              "age                int64\n",
              "workclass         object\n",
              "final-weight       int64\n",
              "education         object\n",
              "education-num      int64\n",
              "marital-status    object\n",
              "occupation        object\n",
              "relationship      object\n",
              "race              object\n",
              "sex               object\n",
              "capital-gain       int64\n",
              "capital-loos       int64\n",
              "hour-per-week      int64\n",
              "native-country    object\n",
              "income            object\n",
              "dtype: object"
            ]
          },
          "metadata": {
            "tags": []
          },
          "execution_count": 4
        }
      ]
    },
    {
      "cell_type": "code",
      "metadata": {
        "id": "OYRKJKkVLQ-z",
        "colab": {
          "base_uri": "https://localhost:8080/",
          "height": 299
        },
        "outputId": "caa4f36b-7140-4413-a16a-a2e263e0c93a"
      },
      "source": [
        "sns.distplot(dataset['age']);"
      ],
      "execution_count": null,
      "outputs": [
        {
          "output_type": "display_data",
          "data": {
            "image/png": "[encoded data removed]",
            "text/plain": [
              "<Figure size 432x288 with 1 Axes>"
            ]
          },
          "metadata": {
            "tags": [],
            "needs_background": "light"
          }
        }
      ]
    },
    {
      "cell_type": "code",
      "metadata": {
        "id": "cyzW0Xo_LSzv",
        "colab": {
          "base_uri": "https://localhost:8080/",
          "height": 310
        },
        "outputId": "3d14d6dd-3ab9-4768-facd-03a70f3633bc"
      },
      "source": [
        "sns.distplot(dataset['final-weight']);"
      ],
      "execution_count": null,
      "outputs": [
        {
          "output_type": "display_data",
          "data": {
            "image/png": "[encoded data removed]",
            "text/plain": [
              "<Figure size 432x288 with 1 Axes>"
            ]
          },
          "metadata": {
            "tags": [],
            "needs_background": "light"
          }
        }
      ]
    },
    {
      "cell_type": "code",
      "metadata": {
        "id": "amXHpozmLU4H",
        "colab": {
          "base_uri": "https://localhost:8080/",
          "height": 299
        },
        "outputId": "ec2d43c3-b5df-47ad-dcdd-cc86b565ff9d"
      },
      "source": [
        "sns.distplot(dataset['education-num'], kde=False);"
      ],
      "execution_count": null,
      "outputs": [
        {
          "output_type": "display_data",
          "data": {
            "image/png": "[encoded data removed]",
            "text/plain": [
              "<Figure size 432x288 with 1 Axes>"
            ]
          },
          "metadata": {
            "tags": [],
            "needs_background": "light"
          }
        }
      ]
    },
    {
      "cell_type": "code",
      "metadata": {
        "id": "Sdh9wlz_LXNB",
        "colab": {
          "base_uri": "https://localhost:8080/",
          "height": 299
        },
        "outputId": "12cc3c06-ce48-4f3f-e5a7-7d969b09d48c"
      },
      "source": [
        "sns.distplot(dataset['capital-gain'], kde=False);"
      ],
      "execution_count": null,
      "outputs": [
        {
          "output_type": "display_data",
          "data": {
            "image/png": "[encoded data removed]",
            "text/plain": [
              "<Figure size 432x288 with 1 Axes>"
            ]
          },
          "metadata": {
            "tags": [],
            "needs_background": "light"
          }
        }
      ]
    },
    {
      "cell_type": "code",
      "metadata": {
        "id": "syK9Idv7LZIJ",
        "colab": {
          "base_uri": "https://localhost:8080/",
          "height": 299
        },
        "outputId": "f17ccaac-c0a3-4723-87ec-55a41c6902b3"
      },
      "source": [
        "sns.distplot(dataset['capital-loos']);"
      ],
      "execution_count": null,
      "outputs": [
        {
          "output_type": "display_data",
          "data": {
            "image/png": "[encoded data removed]",
            "text/plain": [
              "<Figure size 432x288 with 1 Axes>"
            ]
          },
          "metadata": {
            "tags": [],
            "needs_background": "light"
          }
        }
      ]
    },
    {
      "cell_type": "code",
      "metadata": {
        "id": "katShE0hLa04",
        "colab": {
          "base_uri": "https://localhost:8080/",
          "height": 303
        },
        "outputId": "e95988b1-d710-418a-93e7-fef71af1ac46"
      },
      "source": [
        "sns.distplot(dataset['hour-per-week'], kde=False);"
      ],
      "execution_count": null,
      "outputs": [
        {
          "output_type": "display_data",
          "data": {
            "image/png": "[encoded data removed]",
            "text/plain": [
              "<Figure size 432x288 with 1 Axes>"
            ]
          },
          "metadata": {
            "tags": [],
            "needs_background": "light"
          }
        }
      ]
    },
    {
      "cell_type": "code",
      "metadata": {
        "id": "1rdONge-Lcei",
        "colab": {
          "base_uri": "https://localhost:8080/",
          "height": 299
        },
        "outputId": "0be27c31-5dfb-4179-9a55-3b0a49986b59"
      },
      "source": [
        "sns.countplot(dataset['marital-status']);"
      ],
      "execution_count": null,
      "outputs": [
        {
          "output_type": "display_data",
          "data": {
            "image/png": "[encoded data removed]",
            "text/plain": [
              "<Figure size 432x288 with 1 Axes>"
            ]
          },
          "metadata": {
            "tags": [],
            "needs_background": "light"
          }
        }
      ]
    },
    {
      "cell_type": "code",
      "metadata": {
        "id": "tvsdv8DTLd9T",
        "colab": {
          "base_uri": "https://localhost:8080/",
          "height": 299
        },
        "outputId": "61371c4d-6063-4a44-daf0-57bca1fb9616"
      },
      "source": [
        "sns.countplot(dataset['sex']);"
      ],
      "execution_count": null,
      "outputs": [
        {
          "output_type": "display_data",
          "data": {
            "image/png": "[encoded data removed]",
            "text/plain": [
              "<Figure size 432x288 with 1 Axes>"
            ]
          },
          "metadata": {
            "tags": [],
            "needs_background": "light"
          }
        }
      ]
    },
    {
      "cell_type": "code",
      "metadata": {
        "id": "lAzQd_qyLfnK",
        "colab": {
          "base_uri": "https://localhost:8080/",
          "height": 299
        },
        "outputId": "ae0cec96-c981-4803-bcc8-a0dd3f0bc13c"
      },
      "source": [
        "sns.countplot(dataset['income']);"
      ],
      "execution_count": null,
      "outputs": [
        {
          "output_type": "display_data",
          "data": {
            "image/png": "[encoded data removed]",
            "text/plain": [
              "<Figure size 432x288 with 1 Axes>"
            ]
          },
          "metadata": {
            "tags": [],
            "needs_background": "light"
          }
        }
      ]
    },
    {
      "cell_type": "code",
      "metadata": {
        "id": "PG8vCq5HLhLQ",
        "colab": {
          "base_uri": "https://localhost:8080/",
          "height": 228
        },
        "outputId": "e4a4e1c7-b875-45d6-ff82-b5a3dd99ba61"
      },
      "source": [
        "dataset = pd.read_csv('credit_data.csv')\n",
        "dataset.head()"
      ],
      "execution_count": null,
      "outputs": [
        {
          "output_type": "execute_result",
          "data": {
            "text/html": [
              "<div>\n",
              "<style scoped>\n",
              "    .dataframe tbody tr th:only-of-type {\n",
              "        vertical-align: middle;\n",
              "    }\n",
              "\n",
              "    .dataframe tbody tr th {\n",
              "        vertical-align: top;\n",
              "    }\n",
              "\n",
              "    .dataframe thead th {\n",
              "        text-align: right;\n",
              "    }\n",
              "</style>\n",
              "<table border=\"1\" class=\"dataframe\">\n",
              "  <thead>\n",
              "    <tr style=\"text-align: right;\">\n",
              "      <th></th>\n",
              "      <th>i#clientid</th>\n",
              "      <th>income</th>\n",
              "      <th>age</th>\n",
              "      <th>loan</th>\n",
              "      <th>c#default</th>\n",
              "    </tr>\n",
              "  </thead>\n",
              "  <tbody>\n",
              "    <tr>\n",
              "      <th>0</th>\n",
              "      <td>1</td>\n",
              "      <td>66155.925095</td>\n",
              "      <td>59.017015</td>\n",
              "      <td>8106.532131</td>\n",
              "      <td>0</td>\n",
              "    </tr>\n",
              "    <tr>\n",
              "      <th>1</th>\n",
              "      <td>2</td>\n",
              "      <td>34415.153966</td>\n",
              "      <td>48.117153</td>\n",
              "      <td>6564.745018</td>\n",
              "      <td>0</td>\n",
              "    </tr>\n",
              "    <tr>\n",
              "      <th>2</th>\n",
              "      <td>3</td>\n",
              "      <td>57317.170063</td>\n",
              "      <td>63.108049</td>\n",
              "      <td>8020.953296</td>\n",
              "      <td>0</td>\n",
              "    </tr>\n",
              "    <tr>\n",
              "      <th>3</th>\n",
              "      <td>4</td>\n",
              "      <td>42709.534201</td>\n",
              "      <td>45.751972</td>\n",
              "      <td>6103.642260</td>\n",
              "      <td>0</td>\n",
              "    </tr>\n",
              "    <tr>\n",
              "      <th>4</th>\n",
              "      <td>5</td>\n",
              "      <td>66952.688845</td>\n",
              "      <td>18.584336</td>\n",
              "      <td>8770.099235</td>\n",
              "      <td>1</td>\n",
              "    </tr>\n",
              "  </tbody>\n",
              "</table>\n",
              "</div>"
            ],
            "text/plain": [
              "   i#clientid        income        age         loan  c#default\n",
              "0           1  66155.925095  59.017015  8106.532131          0\n",
              "1           2  34415.153966  48.117153  6564.745018          0\n",
              "2           3  57317.170063  63.108049  8020.953296          0\n",
              "3           4  42709.534201  45.751972  6103.642260          0\n",
              "4           5  66952.688845  18.584336  8770.099235          1"
            ]
          },
          "metadata": {
            "tags": []
          },
          "execution_count": 15
        }
      ]
    },
    {
      "cell_type": "code",
      "metadata": {
        "id": "1MylTXhCLlZO",
        "colab": {
          "base_uri": "https://localhost:8080/",
          "height": 310
        },
        "outputId": "3e48e73d-a9f3-437f-d19b-181be8bae6bc"
      },
      "source": [
        "sns.distplot(dataset['income']);"
      ],
      "execution_count": null,
      "outputs": [
        {
          "output_type": "display_data",
          "data": {
            "image/png": "[encoded data removed]",
            "text/plain": [
              "<Figure size 432x288 with 1 Axes>"
            ]
          },
          "metadata": {
            "tags": [],
            "needs_background": "light"
          }
        }
      ]
    },
    {
      "cell_type": "code",
      "metadata": {
        "id": "w6YKGfreLm-N",
        "colab": {
          "base_uri": "https://localhost:8080/",
          "height": 299
        },
        "outputId": "95d4d817-252a-431f-9b17-525dc3b15935"
      },
      "source": [
        "sns.distplot(dataset['age']);"
      ],
      "execution_count": null,
      "outputs": [
        {
          "output_type": "display_data",
          "data": {
            "image/png": "[encoded data removed]",
            "text/plain": [
              "<Figure size 432x288 with 1 Axes>"
            ]
          },
          "metadata": {
            "tags": [],
            "needs_background": "light"
          }
        }
      ]
    },
    {
      "cell_type": "code",
      "metadata": {
        "id": "Q1aD-d8zLorx",
        "colab": {
          "base_uri": "https://localhost:8080/",
          "height": 299
        },
        "outputId": "e5f6ec1a-b887-49e0-845a-817b5337d306"
      },
      "source": [
        "sns.distplot(dataset['loan']);"
      ],
      "execution_count": null,
      "outputs": [
        {
          "output_type": "display_data",
          "data": {
            "image/png": "[encoded data removed]",
            "text/plain": [
              "<Figure size 432x288 with 1 Axes>"
            ]
          },
          "metadata": {
            "tags": [],
            "needs_background": "light"
          }
        }
      ]
    },
    {
      "cell_type": "code",
      "metadata": {
        "id": "K203LKkKLqtm",
        "colab": {
          "base_uri": "https://localhost:8080/",
          "height": 299
        },
        "outputId": "05c858d6-c79a-4274-a620-98e3c2a15af6"
      },
      "source": [
        "sns.distplot(dataset['c#default'], kde = False);"
      ],
      "execution_count": null,
      "outputs": [
        {
          "output_type": "display_data",
          "data": {
            "image/png": "[encoded data removed]",
            "text/plain": [
              "<Figure size 432x288 with 1 Axes>"
            ]
          },
          "metadata": {
            "tags": [],
            "needs_background": "light"
          }
        }
      ]
    },
    {
      "cell_type": "markdown",
      "metadata": {
        "id": "b7w8EREgciHc"
      },
      "source": [
        "## Naïve Bayes e distribuições"
      ]
    },
    {
      "cell_type": "markdown",
      "metadata": {
        "id": "ENwT2TgIckcD"
      },
      "source": [
        "### Bernoulli"
      ]
    },
    {
      "cell_type": "code",
      "metadata": {
        "id": "ZLeyKQsqdBIA"
      },
      "source": [
        "from sklearn.naive_bayes import BernoulliNB\n",
        "from sklearn.metrics import accuracy_score"
      ],
      "execution_count": null,
      "outputs": []
    },
    {
      "cell_type": "code",
      "metadata": {
        "id": "c9eQASGhdjTD",
        "colab": {
          "base_uri": "https://localhost:8080/",
          "height": 351
        },
        "outputId": "5b04fe7e-1013-499f-84fd-e1df910e40a6"
      },
      "source": [
        "dataset = pd.read_csv('census.csv')\n",
        "dataset.head()"
      ],
      "execution_count": null,
      "outputs": [
        {
          "output_type": "execute_result",
          "data": {
            "text/html": [
              "<div>\n",
              "<style scoped>\n",
              "    .dataframe tbody tr th:only-of-type {\n",
              "        vertical-align: middle;\n",
              "    }\n",
              "\n",
              "    .dataframe tbody tr th {\n",
              "        vertical-align: top;\n",
              "    }\n",
              "\n",
              "    .dataframe thead th {\n",
              "        text-align: right;\n",
              "    }\n",
              "</style>\n",
              "<table border=\"1\" class=\"dataframe\">\n",
              "  <thead>\n",
              "    <tr style=\"text-align: right;\">\n",
              "      <th></th>\n",
              "      <th>age</th>\n",
              "      <th>workclass</th>\n",
              "      <th>final-weight</th>\n",
              "      <th>education</th>\n",
              "      <th>education-num</th>\n",
              "      <th>marital-status</th>\n",
              "      <th>occupation</th>\n",
              "      <th>relationship</th>\n",
              "      <th>race</th>\n",
              "      <th>sex</th>\n",
              "      <th>capital-gain</th>\n",
              "      <th>capital-loos</th>\n",
              "      <th>hour-per-week</th>\n",
              "      <th>native-country</th>\n",
              "      <th>income</th>\n",
              "    </tr>\n",
              "  </thead>\n",
              "  <tbody>\n",
              "    <tr>\n",
              "      <th>0</th>\n",
              "      <td>39</td>\n",
              "      <td>State-gov</td>\n",
              "      <td>77516</td>\n",
              "      <td>Bachelors</td>\n",
              "      <td>13</td>\n",
              "      <td>Never-married</td>\n",
              "      <td>Adm-clerical</td>\n",
              "      <td>Not-in-family</td>\n",
              "      <td>White</td>\n",
              "      <td>Male</td>\n",
              "      <td>2174</td>\n",
              "      <td>0</td>\n",
              "      <td>40</td>\n",
              "      <td>United-States</td>\n",
              "      <td>&lt;=50K</td>\n",
              "    </tr>\n",
              "    <tr>\n",
              "      <th>1</th>\n",
              "      <td>50</td>\n",
              "      <td>Self-emp-not-inc</td>\n",
              "      <td>83311</td>\n",
              "      <td>Bachelors</td>\n",
              "      <td>13</td>\n",
              "      <td>Married-civ-spouse</td>\n",
              "      <td>Exec-managerial</td>\n",
              "      <td>Husband</td>\n",
              "      <td>White</td>\n",
              "      <td>Male</td>\n",
              "      <td>0</td>\n",
              "      <td>0</td>\n",
              "      <td>13</td>\n",
              "      <td>United-States</td>\n",
              "      <td>&lt;=50K</td>\n",
              "    </tr>\n",
              "    <tr>\n",
              "      <th>2</th>\n",
              "      <td>38</td>\n",
              "      <td>Private</td>\n",
              "      <td>215646</td>\n",
              "      <td>HS-grad</td>\n",
              "      <td>9</td>\n",
              "      <td>Divorced</td>\n",
              "      <td>Handlers-cleaners</td>\n",
              "      <td>Not-in-family</td>\n",
              "      <td>White</td>\n",
              "      <td>Male</td>\n",
              "      <td>0</td>\n",
              "      <td>0</td>\n",
              "      <td>40</td>\n",
              "      <td>United-States</td>\n",
              "      <td>&lt;=50K</td>\n",
              "    </tr>\n",
              "    <tr>\n",
              "      <th>3</th>\n",
              "      <td>53</td>\n",
              "      <td>Private</td>\n",
              "      <td>234721</td>\n",
              "      <td>11th</td>\n",
              "      <td>7</td>\n",
              "      <td>Married-civ-spouse</td>\n",
              "      <td>Handlers-cleaners</td>\n",
              "      <td>Husband</td>\n",
              "      <td>Black</td>\n",
              "      <td>Male</td>\n",
              "      <td>0</td>\n",
              "      <td>0</td>\n",
              "      <td>40</td>\n",
              "      <td>United-States</td>\n",
              "      <td>&lt;=50K</td>\n",
              "    </tr>\n",
              "    <tr>\n",
              "      <th>4</th>\n",
              "      <td>28</td>\n",
              "      <td>Private</td>\n",
              "      <td>338409</td>\n",
              "      <td>Bachelors</td>\n",
              "      <td>13</td>\n",
              "      <td>Married-civ-spouse</td>\n",
              "      <td>Prof-specialty</td>\n",
              "      <td>Wife</td>\n",
              "      <td>Black</td>\n",
              "      <td>Female</td>\n",
              "      <td>0</td>\n",
              "      <td>0</td>\n",
              "      <td>40</td>\n",
              "      <td>Cuba</td>\n",
              "      <td>&lt;=50K</td>\n",
              "    </tr>\n",
              "  </tbody>\n",
              "</table>\n",
              "</div>"
            ],
            "text/plain": [
              "   age          workclass  final-weight  ... hour-per-week  native-country  income\n",
              "0   39          State-gov         77516  ...            40   United-States   <=50K\n",
              "1   50   Self-emp-not-inc         83311  ...            13   United-States   <=50K\n",
              "2   38            Private        215646  ...            40   United-States   <=50K\n",
              "3   53            Private        234721  ...            40   United-States   <=50K\n",
              "4   28            Private        338409  ...            40            Cuba   <=50K\n",
              "\n",
              "[5 rows x 15 columns]"
            ]
          },
          "metadata": {
            "tags": []
          },
          "execution_count": 21
        }
      ]
    },
    {
      "cell_type": "code",
      "metadata": {
        "id": "22thgZ49d3W_",
        "colab": {
          "base_uri": "https://localhost:8080/",
          "height": 55
        },
        "outputId": "36e300d9-915e-4e2e-c3d7-15c68deb31c3"
      },
      "source": [
        "dataset['sex'].unique()"
      ],
      "execution_count": null,
      "outputs": [
        {
          "output_type": "execute_result",
          "data": {
            "text/plain": [
              "array([' Male', ' Female'], dtype=object)"
            ]
          },
          "metadata": {
            "tags": []
          },
          "execution_count": 22
        }
      ]
    },
    {
      "cell_type": "code",
      "metadata": {
        "id": "NfURIbZ5d-YY",
        "colab": {
          "base_uri": "https://localhost:8080/",
          "height": 72
        },
        "outputId": "8326b5c3-ac84-437f-a0a6-78916af869d5"
      },
      "source": [
        "X = dataset['sex'].values\n",
        "X"
      ],
      "execution_count": null,
      "outputs": [
        {
          "output_type": "execute_result",
          "data": {
            "text/plain": [
              "array([' Male', ' Male', ' Male', ..., ' Female', ' Male', ' Female'],\n",
              "      dtype=object)"
            ]
          },
          "metadata": {
            "tags": []
          },
          "execution_count": 23
        }
      ]
    },
    {
      "cell_type": "code",
      "metadata": {
        "id": "RjvwypDqeGyr"
      },
      "source": [
        "from sklearn.preprocessing import LabelEncoder\n",
        "label_encoder = LabelEncoder()\n",
        "X = label_encoder.fit_transform(X)"
      ],
      "execution_count": null,
      "outputs": []
    },
    {
      "cell_type": "code",
      "metadata": {
        "id": "tRxHvcv5eULZ",
        "colab": {
          "base_uri": "https://localhost:8080/",
          "height": 55
        },
        "outputId": "3869378c-c9df-41db-d73c-89cf445ba363"
      },
      "source": [
        "X, np.unique(X)"
      ],
      "execution_count": null,
      "outputs": [
        {
          "output_type": "execute_result",
          "data": {
            "text/plain": [
              "(array([1, 1, 1, ..., 0, 1, 0]), array([0, 1]))"
            ]
          },
          "metadata": {
            "tags": []
          },
          "execution_count": 25
        }
      ]
    },
    {
      "cell_type": "code",
      "metadata": {
        "id": "_HuNVVrreddn",
        "colab": {
          "base_uri": "https://localhost:8080/",
          "height": 285
        },
        "outputId": "a172c122-ab76-46e3-b1b5-f8392260e435"
      },
      "source": [
        "sns.distplot(X, kde=False);"
      ],
      "execution_count": null,
      "outputs": [
        {
          "output_type": "display_data",
          "data": {
            "image/png": "[encoded data removed]",
            "text/plain": [
              "<Figure size 432x288 with 1 Axes>"
            ]
          },
          "metadata": {
            "tags": [],
            "needs_background": "light"
          }
        }
      ]
    },
    {
      "cell_type": "code",
      "metadata": {
        "id": "pZytCR4gelER",
        "colab": {
          "base_uri": "https://localhost:8080/",
          "height": 55
        },
        "outputId": "273197d9-3dc2-4a79-dc5e-451f38146a0d"
      },
      "source": [
        "X.shape"
      ],
      "execution_count": null,
      "outputs": [
        {
          "output_type": "execute_result",
          "data": {
            "text/plain": [
              "(32561,)"
            ]
          },
          "metadata": {
            "tags": []
          },
          "execution_count": 28
        }
      ]
    },
    {
      "cell_type": "code",
      "metadata": {
        "id": "Wk7uTvoEeo2R",
        "colab": {
          "base_uri": "https://localhost:8080/",
          "height": 55
        },
        "outputId": "aca738b1-07ef-4f2a-86cf-13fb873e9761"
      },
      "source": [
        "X = X.reshape(-1, 1)\n",
        "X.shape"
      ],
      "execution_count": null,
      "outputs": [
        {
          "output_type": "execute_result",
          "data": {
            "text/plain": [
              "(32561, 1)"
            ]
          },
          "metadata": {
            "tags": []
          },
          "execution_count": 29
        }
      ]
    },
    {
      "cell_type": "code",
      "metadata": {
        "id": "P_bcd7mBexBO",
        "colab": {
          "base_uri": "https://localhost:8080/",
          "height": 72
        },
        "outputId": "f1cd9a68-00f0-4046-db5a-71d88cbf81a1"
      },
      "source": [
        "y = dataset['income'].values\n",
        "y"
      ],
      "execution_count": null,
      "outputs": [
        {
          "output_type": "execute_result",
          "data": {
            "text/plain": [
              "array([' <=50K', ' <=50K', ' <=50K', ..., ' <=50K', ' <=50K', ' >50K'],\n",
              "      dtype=object)"
            ]
          },
          "metadata": {
            "tags": []
          },
          "execution_count": 30
        }
      ]
    },
    {
      "cell_type": "code",
      "metadata": {
        "id": "VsRRqmNne4QW",
        "colab": {
          "base_uri": "https://localhost:8080/",
          "height": 55
        },
        "outputId": "3e25e55a-4dd3-4387-d047-89498762ffa9"
      },
      "source": [
        "bernoulli_naive_bayes = BernoulliNB()\n",
        "bernoulli_naive_bayes.fit(X, y)"
      ],
      "execution_count": null,
      "outputs": [
        {
          "output_type": "execute_result",
          "data": {
            "text/plain": [
              "BernoulliNB(alpha=1.0, binarize=0.0, class_prior=None, fit_prior=True)"
            ]
          },
          "metadata": {
            "tags": []
          },
          "execution_count": 31
        }
      ]
    },
    {
      "cell_type": "code",
      "metadata": {
        "id": "65NyzSiRfA9K"
      },
      "source": [
        "previsoes = bernoulli_naive_bayes.predict(X)"
      ],
      "execution_count": null,
      "outputs": []
    },
    {
      "cell_type": "code",
      "metadata": {
        "id": "PEiRBVhHfE_v",
        "colab": {
          "base_uri": "https://localhost:8080/",
          "height": 108
        },
        "outputId": "7cb2493e-9a75-48b2-a42e-a54b4409bb1d"
      },
      "source": [
        "previsoes, y"
      ],
      "execution_count": null,
      "outputs": [
        {
          "output_type": "execute_result",
          "data": {
            "text/plain": [
              "(array([' <=50K', ' <=50K', ' <=50K', ..., ' <=50K', ' <=50K', ' <=50K'],\n",
              "       dtype='<U6'),\n",
              " array([' <=50K', ' <=50K', ' <=50K', ..., ' <=50K', ' <=50K', ' >50K'],\n",
              "       dtype=object))"
            ]
          },
          "metadata": {
            "tags": []
          },
          "execution_count": 33
        }
      ]
    },
    {
      "cell_type": "code",
      "metadata": {
        "id": "1mKizzajfPxR",
        "colab": {
          "base_uri": "https://localhost:8080/",
          "height": 55
        },
        "outputId": "3c1c5614-4a8b-4be6-f902-97165f3cfe3c"
      },
      "source": [
        "accuracy_score(y, previsoes)"
      ],
      "execution_count": null,
      "outputs": [
        {
          "output_type": "execute_result",
          "data": {
            "text/plain": [
              "0.7591904425539756"
            ]
          },
          "metadata": {
            "tags": []
          },
          "execution_count": 34
        }
      ]
    },
    {
      "cell_type": "markdown",
      "metadata": {
        "id": "JyP7381UcozG"
      },
      "source": [
        "### Multinomial"
      ]
    },
    {
      "cell_type": "code",
      "metadata": {
        "id": "9ios0Cshftzu"
      },
      "source": [
        "from sklearn.naive_bayes import MultinomialNB"
      ],
      "execution_count": null,
      "outputs": []
    },
    {
      "cell_type": "code",
      "metadata": {
        "id": "rLVBdi8Jf1vQ",
        "colab": {
          "base_uri": "https://localhost:8080/",
          "height": 351
        },
        "outputId": "24b5f3c0-4a21-4cad-ddfb-4f5c7386a987"
      },
      "source": [
        "dataset = pd.read_csv('census.csv')\n",
        "dataset.head()"
      ],
      "execution_count": null,
      "outputs": [
        {
          "output_type": "execute_result",
          "data": {
            "text/html": [
              "<div>\n",
              "<style scoped>\n",
              "    .dataframe tbody tr th:only-of-type {\n",
              "        vertical-align: middle;\n",
              "    }\n",
              "\n",
              "    .dataframe tbody tr th {\n",
              "        vertical-align: top;\n",
              "    }\n",
              "\n",
              "    .dataframe thead th {\n",
              "        text-align: right;\n",
              "    }\n",
              "</style>\n",
              "<table border=\"1\" class=\"dataframe\">\n",
              "  <thead>\n",
              "    <tr style=\"text-align: right;\">\n",
              "      <th></th>\n",
              "      <th>age</th>\n",
              "      <th>workclass</th>\n",
              "      <th>final-weight</th>\n",
              "      <th>education</th>\n",
              "      <th>education-num</th>\n",
              "      <th>marital-status</th>\n",
              "      <th>occupation</th>\n",
              "      <th>relationship</th>\n",
              "      <th>race</th>\n",
              "      <th>sex</th>\n",
              "      <th>capital-gain</th>\n",
              "      <th>capital-loos</th>\n",
              "      <th>hour-per-week</th>\n",
              "      <th>native-country</th>\n",
              "      <th>income</th>\n",
              "    </tr>\n",
              "  </thead>\n",
              "  <tbody>\n",
              "    <tr>\n",
              "      <th>0</th>\n",
              "      <td>39</td>\n",
              "      <td>State-gov</td>\n",
              "      <td>77516</td>\n",
              "      <td>Bachelors</td>\n",
              "      <td>13</td>\n",
              "      <td>Never-married</td>\n",
              "      <td>Adm-clerical</td>\n",
              "      <td>Not-in-family</td>\n",
              "      <td>White</td>\n",
              "      <td>Male</td>\n",
              "      <td>2174</td>\n",
              "      <td>0</td>\n",
              "      <td>40</td>\n",
              "      <td>United-States</td>\n",
              "      <td>&lt;=50K</td>\n",
              "    </tr>\n",
              "    <tr>\n",
              "      <th>1</th>\n",
              "      <td>50</td>\n",
              "      <td>Self-emp-not-inc</td>\n",
              "      <td>83311</td>\n",
              "      <td>Bachelors</td>\n",
              "      <td>13</td>\n",
              "      <td>Married-civ-spouse</td>\n",
              "      <td>Exec-managerial</td>\n",
              "      <td>Husband</td>\n",
              "      <td>White</td>\n",
              "      <td>Male</td>\n",
              "      <td>0</td>\n",
              "      <td>0</td>\n",
              "      <td>13</td>\n",
              "      <td>United-States</td>\n",
              "      <td>&lt;=50K</td>\n",
              "    </tr>\n",
              "    <tr>\n",
              "      <th>2</th>\n",
              "      <td>38</td>\n",
              "      <td>Private</td>\n",
              "      <td>215646</td>\n",
              "      <td>HS-grad</td>\n",
              "      <td>9</td>\n",
              "      <td>Divorced</td>\n",
              "      <td>Handlers-cleaners</td>\n",
              "      <td>Not-in-family</td>\n",
              "      <td>White</td>\n",
              "      <td>Male</td>\n",
              "      <td>0</td>\n",
              "      <td>0</td>\n",
              "      <td>40</td>\n",
              "      <td>United-States</td>\n",
              "      <td>&lt;=50K</td>\n",
              "    </tr>\n",
              "    <tr>\n",
              "      <th>3</th>\n",
              "      <td>53</td>\n",
              "      <td>Private</td>\n",
              "      <td>234721</td>\n",
              "      <td>11th</td>\n",
              "      <td>7</td>\n",
              "      <td>Married-civ-spouse</td>\n",
              "      <td>Handlers-cleaners</td>\n",
              "      <td>Husband</td>\n",
              "      <td>Black</td>\n",
              "      <td>Male</td>\n",
              "      <td>0</td>\n",
              "      <td>0</td>\n",
              "      <td>40</td>\n",
              "      <td>United-States</td>\n",
              "      <td>&lt;=50K</td>\n",
              "    </tr>\n",
              "    <tr>\n",
              "      <th>4</th>\n",
              "      <td>28</td>\n",
              "      <td>Private</td>\n",
              "      <td>338409</td>\n",
              "      <td>Bachelors</td>\n",
              "      <td>13</td>\n",
              "      <td>Married-civ-spouse</td>\n",
              "      <td>Prof-specialty</td>\n",
              "      <td>Wife</td>\n",
              "      <td>Black</td>\n",
              "      <td>Female</td>\n",
              "      <td>0</td>\n",
              "      <td>0</td>\n",
              "      <td>40</td>\n",
              "      <td>Cuba</td>\n",
              "      <td>&lt;=50K</td>\n",
              "    </tr>\n",
              "  </tbody>\n",
              "</table>\n",
              "</div>"
            ],
            "text/plain": [
              "   age          workclass  final-weight  ... hour-per-week  native-country  income\n",
              "0   39          State-gov         77516  ...            40   United-States   <=50K\n",
              "1   50   Self-emp-not-inc         83311  ...            13   United-States   <=50K\n",
              "2   38            Private        215646  ...            40   United-States   <=50K\n",
              "3   53            Private        234721  ...            40   United-States   <=50K\n",
              "4   28            Private        338409  ...            40            Cuba   <=50K\n",
              "\n",
              "[5 rows x 15 columns]"
            ]
          },
          "metadata": {
            "tags": []
          },
          "execution_count": 36
        }
      ]
    },
    {
      "cell_type": "code",
      "metadata": {
        "id": "c0RLMJj0gSNH"
      },
      "source": [
        "from sklearn.preprocessing import LabelEncoder\n",
        "label_encoder0 = LabelEncoder()\n",
        "label_encoder1 = LabelEncoder()\n",
        "label_encoder2 = LabelEncoder()\n",
        "label_encoder3 = LabelEncoder()\n",
        "label_encoder4 = LabelEncoder()\n",
        "label_encoder5 = LabelEncoder()\n",
        "label_encoder6 = LabelEncoder()"
      ],
      "execution_count": null,
      "outputs": []
    },
    {
      "cell_type": "code",
      "metadata": {
        "id": "P78YcB-rgjql"
      },
      "source": [
        "dataset['workclass'] = label_encoder0.fit_transform(dataset['workclass'])\n",
        "dataset['education'] = label_encoder1.fit_transform(dataset['education'])\n",
        "dataset['marital-status'] = label_encoder2.fit_transform(dataset['marital-status'])\n",
        "dataset['occupation'] = label_encoder3.fit_transform(dataset['occupation'])\n",
        "dataset['relationship'] = label_encoder4.fit_transform(dataset['relationship'])\n",
        "dataset['race'] = label_encoder5.fit_transform(dataset['race'])\n",
        "dataset['native-country'] = label_encoder6.fit_transform(dataset['native-country'])"
      ],
      "execution_count": null,
      "outputs": []
    },
    {
      "cell_type": "code",
      "metadata": {
        "id": "13vC6NNuhCDz",
        "colab": {
          "base_uri": "https://localhost:8080/",
          "height": 263
        },
        "outputId": "5d1da110-7b1f-4822-bfc2-5c225733011a"
      },
      "source": [
        "dataset.head()"
      ],
      "execution_count": null,
      "outputs": [
        {
          "output_type": "execute_result",
          "data": {
            "text/html": [
              "<div>\n",
              "<style scoped>\n",
              "    .dataframe tbody tr th:only-of-type {\n",
              "        vertical-align: middle;\n",
              "    }\n",
              "\n",
              "    .dataframe tbody tr th {\n",
              "        vertical-align: top;\n",
              "    }\n",
              "\n",
              "    .dataframe thead th {\n",
              "        text-align: right;\n",
              "    }\n",
              "</style>\n",
              "<table border=\"1\" class=\"dataframe\">\n",
              "  <thead>\n",
              "    <tr style=\"text-align: right;\">\n",
              "      <th></th>\n",
              "      <th>age</th>\n",
              "      <th>workclass</th>\n",
              "      <th>final-weight</th>\n",
              "      <th>education</th>\n",
              "      <th>education-num</th>\n",
              "      <th>marital-status</th>\n",
              "      <th>occupation</th>\n",
              "      <th>relationship</th>\n",
              "      <th>race</th>\n",
              "      <th>sex</th>\n",
              "      <th>capital-gain</th>\n",
              "      <th>capital-loos</th>\n",
              "      <th>hour-per-week</th>\n",
              "      <th>native-country</th>\n",
              "      <th>income</th>\n",
              "    </tr>\n",
              "  </thead>\n",
              "  <tbody>\n",
              "    <tr>\n",
              "      <th>0</th>\n",
              "      <td>39</td>\n",
              "      <td>7</td>\n",
              "      <td>77516</td>\n",
              "      <td>9</td>\n",
              "      <td>13</td>\n",
              "      <td>4</td>\n",
              "      <td>1</td>\n",
              "      <td>1</td>\n",
              "      <td>4</td>\n",
              "      <td>Male</td>\n",
              "      <td>2174</td>\n",
              "      <td>0</td>\n",
              "      <td>40</td>\n",
              "      <td>39</td>\n",
              "      <td>&lt;=50K</td>\n",
              "    </tr>\n",
              "    <tr>\n",
              "      <th>1</th>\n",
              "      <td>50</td>\n",
              "      <td>6</td>\n",
              "      <td>83311</td>\n",
              "      <td>9</td>\n",
              "      <td>13</td>\n",
              "      <td>2</td>\n",
              "      <td>4</td>\n",
              "      <td>0</td>\n",
              "      <td>4</td>\n",
              "      <td>Male</td>\n",
              "      <td>0</td>\n",
              "      <td>0</td>\n",
              "      <td>13</td>\n",
              "      <td>39</td>\n",
              "      <td>&lt;=50K</td>\n",
              "    </tr>\n",
              "    <tr>\n",
              "      <th>2</th>\n",
              "      <td>38</td>\n",
              "      <td>4</td>\n",
              "      <td>215646</td>\n",
              "      <td>11</td>\n",
              "      <td>9</td>\n",
              "      <td>0</td>\n",
              "      <td>6</td>\n",
              "      <td>1</td>\n",
              "      <td>4</td>\n",
              "      <td>Male</td>\n",
              "      <td>0</td>\n",
              "      <td>0</td>\n",
              "      <td>40</td>\n",
              "      <td>39</td>\n",
              "      <td>&lt;=50K</td>\n",
              "    </tr>\n",
              "    <tr>\n",
              "      <th>3</th>\n",
              "      <td>53</td>\n",
              "      <td>4</td>\n",
              "      <td>234721</td>\n",
              "      <td>1</td>\n",
              "      <td>7</td>\n",
              "      <td>2</td>\n",
              "      <td>6</td>\n",
              "      <td>0</td>\n",
              "      <td>2</td>\n",
              "      <td>Male</td>\n",
              "      <td>0</td>\n",
              "      <td>0</td>\n",
              "      <td>40</td>\n",
              "      <td>39</td>\n",
              "      <td>&lt;=50K</td>\n",
              "    </tr>\n",
              "    <tr>\n",
              "      <th>4</th>\n",
              "      <td>28</td>\n",
              "      <td>4</td>\n",
              "      <td>338409</td>\n",
              "      <td>9</td>\n",
              "      <td>13</td>\n",
              "      <td>2</td>\n",
              "      <td>10</td>\n",
              "      <td>5</td>\n",
              "      <td>2</td>\n",
              "      <td>Female</td>\n",
              "      <td>0</td>\n",
              "      <td>0</td>\n",
              "      <td>40</td>\n",
              "      <td>5</td>\n",
              "      <td>&lt;=50K</td>\n",
              "    </tr>\n",
              "  </tbody>\n",
              "</table>\n",
              "</div>"
            ],
            "text/plain": [
              "   age  workclass  final-weight  ...  hour-per-week  native-country  income\n",
              "0   39          7         77516  ...             40              39   <=50K\n",
              "1   50          6         83311  ...             13              39   <=50K\n",
              "2   38          4        215646  ...             40              39   <=50K\n",
              "3   53          4        234721  ...             40              39   <=50K\n",
              "4   28          4        338409  ...             40               5   <=50K\n",
              "\n",
              "[5 rows x 15 columns]"
            ]
          },
          "metadata": {
            "tags": []
          },
          "execution_count": 39
        }
      ]
    },
    {
      "cell_type": "code",
      "metadata": {
        "id": "0xZUk-oghGn6",
        "colab": {
          "base_uri": "https://localhost:8080/",
          "height": 160
        },
        "outputId": "2bd8d107-d4b2-4d64-becf-56c043233789"
      },
      "source": [
        "X = dataset.iloc[:, [1,3,5,6,7,8,13]].values\n",
        "X"
      ],
      "execution_count": null,
      "outputs": [
        {
          "output_type": "execute_result",
          "data": {
            "text/plain": [
              "array([[ 7,  9,  4, ...,  1,  4, 39],\n",
              "       [ 6,  9,  2, ...,  0,  4, 39],\n",
              "       [ 4, 11,  0, ...,  1,  4, 39],\n",
              "       ...,\n",
              "       [ 4, 11,  6, ...,  4,  4, 39],\n",
              "       [ 4, 11,  4, ...,  3,  4, 39],\n",
              "       [ 5, 11,  2, ...,  5,  4, 39]])"
            ]
          },
          "metadata": {
            "tags": []
          },
          "execution_count": 40
        }
      ]
    },
    {
      "cell_type": "code",
      "metadata": {
        "id": "LNTUEIffhQtk",
        "colab": {
          "base_uri": "https://localhost:8080/",
          "height": 72
        },
        "outputId": "65834aa5-1728-43a1-8ad8-e6e8b1009890"
      },
      "source": [
        "y = dataset['income'].values\n",
        "y"
      ],
      "execution_count": null,
      "outputs": [
        {
          "output_type": "execute_result",
          "data": {
            "text/plain": [
              "array([' <=50K', ' <=50K', ' <=50K', ..., ' <=50K', ' <=50K', ' >50K'],\n",
              "      dtype=object)"
            ]
          },
          "metadata": {
            "tags": []
          },
          "execution_count": 41
        }
      ]
    },
    {
      "cell_type": "code",
      "metadata": {
        "id": "r2EgxJPEhVj_",
        "colab": {
          "base_uri": "https://localhost:8080/",
          "height": 55
        },
        "outputId": "0efef712-433b-43a9-9724-7c1bdd3f234a"
      },
      "source": [
        "multinomial_naive_bayes = MultinomialNB()\n",
        "multinomial_naive_bayes.fit(X, y)"
      ],
      "execution_count": null,
      "outputs": [
        {
          "output_type": "execute_result",
          "data": {
            "text/plain": [
              "MultinomialNB(alpha=1.0, class_prior=None, fit_prior=True)"
            ]
          },
          "metadata": {
            "tags": []
          },
          "execution_count": 42
        }
      ]
    },
    {
      "cell_type": "code",
      "metadata": {
        "id": "uxEEo8R4hckf"
      },
      "source": [
        "previsoes = multinomial_naive_bayes.predict(X)"
      ],
      "execution_count": null,
      "outputs": []
    },
    {
      "cell_type": "code",
      "metadata": {
        "id": "lm-sH2XohgtO",
        "colab": {
          "base_uri": "https://localhost:8080/",
          "height": 108
        },
        "outputId": "3cdc6442-0069-4f95-8454-7b3cd2b93b9c"
      },
      "source": [
        "previsoes, y"
      ],
      "execution_count": null,
      "outputs": [
        {
          "output_type": "execute_result",
          "data": {
            "text/plain": [
              "(array([' <=50K', ' <=50K', ' <=50K', ..., ' <=50K', ' <=50K', ' <=50K'],\n",
              "       dtype='<U6'),\n",
              " array([' <=50K', ' <=50K', ' <=50K', ..., ' <=50K', ' <=50K', ' >50K'],\n",
              "       dtype=object))"
            ]
          },
          "metadata": {
            "tags": []
          },
          "execution_count": 44
        }
      ]
    },
    {
      "cell_type": "code",
      "metadata": {
        "id": "iJ_ssxPZhl8W",
        "colab": {
          "base_uri": "https://localhost:8080/",
          "height": 55
        },
        "outputId": "7cd2574d-103d-4463-a2fe-c2f483f339c7"
      },
      "source": [
        "accuracy_score(y, previsoes)"
      ],
      "execution_count": null,
      "outputs": [
        {
          "output_type": "execute_result",
          "data": {
            "text/plain": [
              "0.7485949448727005"
            ]
          },
          "metadata": {
            "tags": []
          },
          "execution_count": 45
        }
      ]
    },
    {
      "cell_type": "markdown",
      "metadata": {
        "id": "clcXtG1liStO"
      },
      "source": [
        "## Padronização (z-score) e k-NN"
      ]
    },
    {
      "cell_type": "code",
      "metadata": {
        "id": "C-nWg6-giVNr",
        "colab": {
          "base_uri": "https://localhost:8080/",
          "height": 228
        },
        "outputId": "5ccaaf78-ea4f-4fcf-c2f1-0ad894378118"
      },
      "source": [
        "import pandas as pd\n",
        "import numpy as np\n",
        "dataset = pd.read_csv('credit_data.csv')\n",
        "dataset.dropna(inplace=True)\n",
        "dataset.head()"
      ],
      "execution_count": null,
      "outputs": [
        {
          "output_type": "execute_result",
          "data": {
            "text/html": [
              "<div>\n",
              "<style scoped>\n",
              "    .dataframe tbody tr th:only-of-type {\n",
              "        vertical-align: middle;\n",
              "    }\n",
              "\n",
              "    .dataframe tbody tr th {\n",
              "        vertical-align: top;\n",
              "    }\n",
              "\n",
              "    .dataframe thead th {\n",
              "        text-align: right;\n",
              "    }\n",
              "</style>\n",
              "<table border=\"1\" class=\"dataframe\">\n",
              "  <thead>\n",
              "    <tr style=\"text-align: right;\">\n",
              "      <th></th>\n",
              "      <th>i#clientid</th>\n",
              "      <th>income</th>\n",
              "      <th>age</th>\n",
              "      <th>loan</th>\n",
              "      <th>c#default</th>\n",
              "    </tr>\n",
              "  </thead>\n",
              "  <tbody>\n",
              "    <tr>\n",
              "      <th>0</th>\n",
              "      <td>1</td>\n",
              "      <td>66155.925095</td>\n",
              "      <td>59.017015</td>\n",
              "      <td>8106.532131</td>\n",
              "      <td>0</td>\n",
              "    </tr>\n",
              "    <tr>\n",
              "      <th>1</th>\n",
              "      <td>2</td>\n",
              "      <td>34415.153966</td>\n",
              "      <td>48.117153</td>\n",
              "      <td>6564.745018</td>\n",
              "      <td>0</td>\n",
              "    </tr>\n",
              "    <tr>\n",
              "      <th>2</th>\n",
              "      <td>3</td>\n",
              "      <td>57317.170063</td>\n",
              "      <td>63.108049</td>\n",
              "      <td>8020.953296</td>\n",
              "      <td>0</td>\n",
              "    </tr>\n",
              "    <tr>\n",
              "      <th>3</th>\n",
              "      <td>4</td>\n",
              "      <td>42709.534201</td>\n",
              "      <td>45.751972</td>\n",
              "      <td>6103.642260</td>\n",
              "      <td>0</td>\n",
              "    </tr>\n",
              "    <tr>\n",
              "      <th>4</th>\n",
              "      <td>5</td>\n",
              "      <td>66952.688845</td>\n",
              "      <td>18.584336</td>\n",
              "      <td>8770.099235</td>\n",
              "      <td>1</td>\n",
              "    </tr>\n",
              "  </tbody>\n",
              "</table>\n",
              "</div>"
            ],
            "text/plain": [
              "   i#clientid        income        age         loan  c#default\n",
              "0           1  66155.925095  59.017015  8106.532131          0\n",
              "1           2  34415.153966  48.117153  6564.745018          0\n",
              "2           3  57317.170063  63.108049  8020.953296          0\n",
              "3           4  42709.534201  45.751972  6103.642260          0\n",
              "4           5  66952.688845  18.584336  8770.099235          1"
            ]
          },
          "metadata": {
            "tags": []
          },
          "execution_count": 46
        }
      ]
    },
    {
      "cell_type": "markdown",
      "metadata": {
        "id": "k8OkXZ1DiZaD"
      },
      "source": [
        "### Sem padronização"
      ]
    },
    {
      "cell_type": "code",
      "metadata": {
        "id": "qR6sCd-yjgOx",
        "colab": {
          "base_uri": "https://localhost:8080/",
          "height": 160
        },
        "outputId": "c02f365a-55b4-4a33-d5d2-ecb0a97cb857"
      },
      "source": [
        "X = dataset.iloc[:, 1:4].values\n",
        "X"
      ],
      "execution_count": null,
      "outputs": [
        {
          "output_type": "execute_result",
          "data": {
            "text/plain": [
              "array([[6.61559251e+04, 5.90170151e+01, 8.10653213e+03],\n",
              "       [3.44151540e+04, 4.81171531e+01, 6.56474502e+03],\n",
              "       [5.73171701e+04, 6.31080495e+01, 8.02095330e+03],\n",
              "       ...,\n",
              "       [4.43114493e+04, 2.80171669e+01, 5.52278669e+03],\n",
              "       [4.37560566e+04, 6.39717958e+01, 1.62272260e+03],\n",
              "       [6.94365796e+04, 5.61526170e+01, 7.37883360e+03]])"
            ]
          },
          "metadata": {
            "tags": []
          },
          "execution_count": 47
        }
      ]
    },
    {
      "cell_type": "code",
      "metadata": {
        "id": "DRa5e1s1jm5l",
        "colab": {
          "base_uri": "https://localhost:8080/",
          "height": 55
        },
        "outputId": "a3ee1365-1dbe-4f4a-aea1-dd21a706460b"
      },
      "source": [
        "y = dataset['c#default'].values\n",
        "y"
      ],
      "execution_count": null,
      "outputs": [
        {
          "output_type": "execute_result",
          "data": {
            "text/plain": [
              "array([0, 0, 0, ..., 1, 0, 0])"
            ]
          },
          "metadata": {
            "tags": []
          },
          "execution_count": 48
        }
      ]
    },
    {
      "cell_type": "code",
      "metadata": {
        "id": "eipQEp2pjsJ8"
      },
      "source": [
        "from sklearn.neighbors import KNeighborsClassifier\n",
        "from sklearn.model_selection import train_test_split\n",
        "from sklearn.metrics import accuracy_score"
      ],
      "execution_count": null,
      "outputs": []
    },
    {
      "cell_type": "code",
      "metadata": {
        "id": "cdxE8E6aj4MC"
      },
      "source": [
        "X_treinamento, X_teste, y_treinamento, y_teste = train_test_split(X, y, test_size = 0.2,\n",
        "                                                                  stratify = y)"
      ],
      "execution_count": null,
      "outputs": []
    },
    {
      "cell_type": "code",
      "metadata": {
        "id": "zYPmqpVgkEeQ",
        "colab": {
          "base_uri": "https://localhost:8080/",
          "height": 55
        },
        "outputId": "5a00ce4c-4d70-49c3-cdd1-864c78078a34"
      },
      "source": [
        "np.mean(X_treinamento[0]), np.median(X_treinamento[0]), np.std(X_treinamento[0])"
      ],
      "execution_count": null,
      "outputs": [
        {
          "output_type": "execute_result",
          "data": {
            "text/plain": [
              "(20158.979179030084, 660.241452576494, 28026.34036117732)"
            ]
          },
          "metadata": {
            "tags": []
          },
          "execution_count": 55
        }
      ]
    },
    {
      "cell_type": "code",
      "metadata": {
        "id": "vzJ7rI6RkvTr",
        "colab": {
          "base_uri": "https://localhost:8080/",
          "height": 55
        },
        "outputId": "0b87d5d5-8d89-412a-ea6f-76ee282c3318"
      },
      "source": [
        "np.mean(X_teste[0]), np.median(X_teste[0]), np.std(X_teste[0])"
      ],
      "execution_count": null,
      "outputs": [
        {
          "output_type": "execute_result",
          "data": {
            "text/plain": [
              "(16264.394996353609, 5049.635508890789, 19502.80563378862)"
            ]
          },
          "metadata": {
            "tags": []
          },
          "execution_count": 56
        }
      ]
    },
    {
      "cell_type": "code",
      "metadata": {
        "id": "vUgklIzdk48F",
        "colab": {
          "base_uri": "https://localhost:8080/",
          "height": 90
        },
        "outputId": "9eb4e7bb-1dba-4a08-ecc2-459bdf7f3da3"
      },
      "source": [
        "knn = KNeighborsClassifier()\n",
        "knn.fit(X_treinamento, y_treinamento)"
      ],
      "execution_count": null,
      "outputs": [
        {
          "output_type": "execute_result",
          "data": {
            "text/plain": [
              "KNeighborsClassifier(algorithm='auto', leaf_size=30, metric='minkowski',\n",
              "                     metric_params=None, n_jobs=None, n_neighbors=5, p=2,\n",
              "                     weights='uniform')"
            ]
          },
          "metadata": {
            "tags": []
          },
          "execution_count": 57
        }
      ]
    },
    {
      "cell_type": "code",
      "metadata": {
        "id": "bOpdfVhPlDi7"
      },
      "source": [
        "previsoes = knn.predict(X_teste)"
      ],
      "execution_count": null,
      "outputs": []
    },
    {
      "cell_type": "code",
      "metadata": {
        "id": "F9mxkdChlPDt",
        "colab": {
          "base_uri": "https://localhost:8080/",
          "height": 55
        },
        "outputId": "de0fa4f0-8292-411d-b764-af96d26e683c"
      },
      "source": [
        "accuracy_score(y_teste, previsoes)"
      ],
      "execution_count": null,
      "outputs": [
        {
          "output_type": "execute_result",
          "data": {
            "text/plain": [
              "0.8275"
            ]
          },
          "metadata": {
            "tags": []
          },
          "execution_count": 59
        }
      ]
    },
    {
      "cell_type": "markdown",
      "metadata": {
        "id": "_KsA-s8_ibKS"
      },
      "source": [
        "### Com padronização"
      ]
    },
    {
      "cell_type": "code",
      "metadata": {
        "id": "YszwHL1-lg5o"
      },
      "source": [
        "from sklearn.preprocessing import StandardScaler"
      ],
      "execution_count": null,
      "outputs": []
    },
    {
      "cell_type": "code",
      "metadata": {
        "id": "OaFzToTmloNT"
      },
      "source": [
        "z_score_treinamento = StandardScaler()\n",
        "z_score_teste = StandardScaler()"
      ],
      "execution_count": null,
      "outputs": []
    },
    {
      "cell_type": "code",
      "metadata": {
        "id": "iFWbQSewlwDF"
      },
      "source": [
        "X_treinamento_p = z_score_treinamento.fit_transform(X_treinamento)\n",
        "X_teste_p = z_score_teste.fit_transform(X_teste)"
      ],
      "execution_count": null,
      "outputs": []
    },
    {
      "cell_type": "code",
      "metadata": {
        "id": "vJ3Nt9g2mKve",
        "colab": {
          "base_uri": "https://localhost:8080/",
          "height": 284
        },
        "outputId": "c65da81f-4fe3-4d39-f670-60fecd48779c"
      },
      "source": [
        "X_treinamento_p, X_teste_p"
      ],
      "execution_count": null,
      "outputs": [
        {
          "output_type": "execute_result",
          "data": {
            "text/plain": [
              "(array([[ 1.02142135, -1.21994158, -1.23568196],\n",
              "        [-0.41338715, -0.78608335, -1.16914244],\n",
              "        [-0.08165361,  0.48535609,  1.27482027],\n",
              "        ...,\n",
              "        [-0.32091579,  0.78089308,  0.66808613],\n",
              "        [-0.87090587, -0.58721551, -0.86583234],\n",
              "        [ 1.48016351, -0.17687753,  0.47215683]]),\n",
              " array([[-0.16809074,  0.64377516,  0.21933748],\n",
              "        [-0.27013693, -0.48235734, -0.79353978],\n",
              "        [ 1.01364754, -1.52072786,  0.8030424 ],\n",
              "        ...,\n",
              "        [ 1.4179868 , -0.8697111 ,  1.04397674],\n",
              "        [-1.06865465, -0.69904642, -0.10354964],\n",
              "        [-0.41783287,  1.13241876, -1.21001549]]))"
            ]
          },
          "metadata": {
            "tags": []
          },
          "execution_count": 63
        }
      ]
    },
    {
      "cell_type": "code",
      "metadata": {
        "id": "UK9ErpIimR3k",
        "colab": {
          "base_uri": "https://localhost:8080/",
          "height": 55
        },
        "outputId": "9e7717c6-ced7-4215-c362-c60bfc1d403a"
      },
      "source": [
        "min(X_treinamento_p[0]), max(X_treinamento_p[0])"
      ],
      "execution_count": null,
      "outputs": [
        {
          "output_type": "execute_result",
          "data": {
            "text/plain": [
              "(-1.2356819550160687, 1.0214213543522255)"
            ]
          },
          "metadata": {
            "tags": []
          },
          "execution_count": 64
        }
      ]
    },
    {
      "cell_type": "code",
      "metadata": {
        "id": "EAAIhKp2mYz6",
        "colab": {
          "base_uri": "https://localhost:8080/",
          "height": 55
        },
        "outputId": "b86b117b-4804-4284-c5cb-bbba0d7319ee"
      },
      "source": [
        "np.mean(X_treinamento_p), np.median(X_treinamento_p), np.std(X_treinamento_p)"
      ],
      "execution_count": null,
      "outputs": [
        {
          "output_type": "execute_result",
          "data": {
            "text/plain": [
              "(-1.5112566222908413e-15, -0.046992061788928396, 1.0000000000000002)"
            ]
          },
          "metadata": {
            "tags": []
          },
          "execution_count": 71
        }
      ]
    },
    {
      "cell_type": "code",
      "metadata": {
        "id": "1EdxZ273nAzJ",
        "colab": {
          "base_uri": "https://localhost:8080/",
          "height": 55
        },
        "outputId": "49a591f4-207f-49ad-fc95-39dcc218c47f"
      },
      "source": [
        "np.mean(X_teste_p), np.median(X_teste_p), np.std(X_teste_p)"
      ],
      "execution_count": null,
      "outputs": [
        {
          "output_type": "execute_result",
          "data": {
            "text/plain": [
              "(2.3684757858670008e-17, -0.006789960812233871, 1.0)"
            ]
          },
          "metadata": {
            "tags": []
          },
          "execution_count": 72
        }
      ]
    },
    {
      "cell_type": "code",
      "metadata": {
        "id": "5np7lxponXLB",
        "colab": {
          "base_uri": "https://localhost:8080/",
          "height": 55
        },
        "outputId": "fca61527-336d-4bbf-9674-8da71d46cc8a"
      },
      "source": [
        "knn = KNeighborsClassifier()\n",
        "knn.fit(X_treinamento_p, y_treinamento)\n",
        "previsoes = knn.predict(X_teste_p)\n",
        "accuracy_score(y_teste, previsoes)"
      ],
      "execution_count": null,
      "outputs": [
        {
          "output_type": "execute_result",
          "data": {
            "text/plain": [
              "0.99"
            ]
          },
          "metadata": {
            "tags": []
          },
          "execution_count": 73
        }
      ]
    },
    {
      "cell_type": "markdown",
      "metadata": {
        "id": "_ABiFDCGqOoL"
      },
      "source": [
        "## Dados enviesados e machine learning\n",
        "\n",
        "- https://towardsdatascience.com/transforming-skewed-data-73da4c2d0d16"
      ]
    },
    {
      "cell_type": "code",
      "metadata": {
        "id": "aTVAkrS2qN55"
      },
      "source": [
        "import pandas as pd\n",
        "dataset = pd.read_csv('house_prices.csv')"
      ],
      "execution_count": null,
      "outputs": []
    },
    {
      "cell_type": "code",
      "metadata": {
        "id": "HJsXLyeCq2CK",
        "colab": {
          "base_uri": "https://localhost:8080/",
          "height": 228
        },
        "outputId": "1876299e-fd37-4ec4-b494-939bceb98e8a"
      },
      "source": [
        "dataset.head()"
      ],
      "execution_count": null,
      "outputs": [
        {
          "output_type": "execute_result",
          "data": {
            "text/html": [
              "<div>\n",
              "<style scoped>\n",
              "    .dataframe tbody tr th:only-of-type {\n",
              "        vertical-align: middle;\n",
              "    }\n",
              "\n",
              "    .dataframe tbody tr th {\n",
              "        vertical-align: top;\n",
              "    }\n",
              "\n",
              "    .dataframe thead th {\n",
              "        text-align: right;\n",
              "    }\n",
              "</style>\n",
              "<table border=\"1\" class=\"dataframe\">\n",
              "  <thead>\n",
              "    <tr style=\"text-align: right;\">\n",
              "      <th></th>\n",
              "      <th>id</th>\n",
              "      <th>date</th>\n",
              "      <th>price</th>\n",
              "      <th>bedrooms</th>\n",
              "      <th>bathrooms</th>\n",
              "      <th>sqft_living</th>\n",
              "      <th>sqft_lot</th>\n",
              "      <th>floors</th>\n",
              "      <th>waterfront</th>\n",
              "      <th>view</th>\n",
              "      <th>condition</th>\n",
              "      <th>grade</th>\n",
              "      <th>sqft_above</th>\n",
              "      <th>sqft_basement</th>\n",
              "      <th>yr_built</th>\n",
              "      <th>yr_renovated</th>\n",
              "      <th>zipcode</th>\n",
              "      <th>lat</th>\n",
              "      <th>long</th>\n",
              "      <th>sqft_living15</th>\n",
              "      <th>sqft_lot15</th>\n",
              "    </tr>\n",
              "  </thead>\n",
              "  <tbody>\n",
              "    <tr>\n",
              "      <th>0</th>\n",
              "      <td>7129300520</td>\n",
              "      <td>20141013T000000</td>\n",
              "      <td>221900.0</td>\n",
              "      <td>3</td>\n",
              "      <td>1.00</td>\n",
              "      <td>1180</td>\n",
              "      <td>5650</td>\n",
              "      <td>1.0</td>\n",
              "      <td>0</td>\n",
              "      <td>0</td>\n",
              "      <td>3</td>\n",
              "      <td>7</td>\n",
              "      <td>1180</td>\n",
              "      <td>0</td>\n",
              "      <td>1955</td>\n",
              "      <td>0</td>\n",
              "      <td>98178</td>\n",
              "      <td>47.5112</td>\n",
              "      <td>-122.257</td>\n",
              "      <td>1340</td>\n",
              "      <td>5650</td>\n",
              "    </tr>\n",
              "    <tr>\n",
              "      <th>1</th>\n",
              "      <td>6414100192</td>\n",
              "      <td>20141209T000000</td>\n",
              "      <td>538000.0</td>\n",
              "      <td>3</td>\n",
              "      <td>2.25</td>\n",
              "      <td>2570</td>\n",
              "      <td>7242</td>\n",
              "      <td>2.0</td>\n",
              "      <td>0</td>\n",
              "      <td>0</td>\n",
              "      <td>3</td>\n",
              "      <td>7</td>\n",
              "      <td>2170</td>\n",
              "      <td>400</td>\n",
              "      <td>1951</td>\n",
              "      <td>1991</td>\n",
              "      <td>98125</td>\n",
              "      <td>47.7210</td>\n",
              "      <td>-122.319</td>\n",
              "      <td>1690</td>\n",
              "      <td>7639</td>\n",
              "    </tr>\n",
              "    <tr>\n",
              "      <th>2</th>\n",
              "      <td>5631500400</td>\n",
              "      <td>20150225T000000</td>\n",
              "      <td>180000.0</td>\n",
              "      <td>2</td>\n",
              "      <td>1.00</td>\n",
              "      <td>770</td>\n",
              "      <td>10000</td>\n",
              "      <td>1.0</td>\n",
              "      <td>0</td>\n",
              "      <td>0</td>\n",
              "      <td>3</td>\n",
              "      <td>6</td>\n",
              "      <td>770</td>\n",
              "      <td>0</td>\n",
              "      <td>1933</td>\n",
              "      <td>0</td>\n",
              "      <td>98028</td>\n",
              "      <td>47.7379</td>\n",
              "      <td>-122.233</td>\n",
              "      <td>2720</td>\n",
              "      <td>8062</td>\n",
              "    </tr>\n",
              "    <tr>\n",
              "      <th>3</th>\n",
              "      <td>2487200875</td>\n",
              "      <td>20141209T000000</td>\n",
              "      <td>604000.0</td>\n",
              "      <td>4</td>\n",
              "      <td>3.00</td>\n",
              "      <td>1960</td>\n",
              "      <td>5000</td>\n",
              "      <td>1.0</td>\n",
              "      <td>0</td>\n",
              "      <td>0</td>\n",
              "      <td>5</td>\n",
              "      <td>7</td>\n",
              "      <td>1050</td>\n",
              "      <td>910</td>\n",
              "      <td>1965</td>\n",
              "      <td>0</td>\n",
              "      <td>98136</td>\n",
              "      <td>47.5208</td>\n",
              "      <td>-122.393</td>\n",
              "      <td>1360</td>\n",
              "      <td>5000</td>\n",
              "    </tr>\n",
              "    <tr>\n",
              "      <th>4</th>\n",
              "      <td>1954400510</td>\n",
              "      <td>20150218T000000</td>\n",
              "      <td>510000.0</td>\n",
              "      <td>3</td>\n",
              "      <td>2.00</td>\n",
              "      <td>1680</td>\n",
              "      <td>8080</td>\n",
              "      <td>1.0</td>\n",
              "      <td>0</td>\n",
              "      <td>0</td>\n",
              "      <td>3</td>\n",
              "      <td>8</td>\n",
              "      <td>1680</td>\n",
              "      <td>0</td>\n",
              "      <td>1987</td>\n",
              "      <td>0</td>\n",
              "      <td>98074</td>\n",
              "      <td>47.6168</td>\n",
              "      <td>-122.045</td>\n",
              "      <td>1800</td>\n",
              "      <td>7503</td>\n",
              "    </tr>\n",
              "  </tbody>\n",
              "</table>\n",
              "</div>"
            ],
            "text/plain": [
              "           id             date     price  ...     long  sqft_living15  sqft_lot15\n",
              "0  7129300520  20141013T000000  221900.0  ... -122.257           1340        5650\n",
              "1  6414100192  20141209T000000  538000.0  ... -122.319           1690        7639\n",
              "2  5631500400  20150225T000000  180000.0  ... -122.233           2720        8062\n",
              "3  2487200875  20141209T000000  604000.0  ... -122.393           1360        5000\n",
              "4  1954400510  20150218T000000  510000.0  ... -122.045           1800        7503\n",
              "\n",
              "[5 rows x 21 columns]"
            ]
          },
          "metadata": {
            "tags": []
          },
          "execution_count": 19
        }
      ]
    },
    {
      "cell_type": "code",
      "metadata": {
        "id": "-VsIa1KArElA",
        "colab": {
          "base_uri": "https://localhost:8080/",
          "height": 310
        },
        "outputId": "acb70c78-8534-45ab-be71-f43b8b059ff8"
      },
      "source": [
        "sns.distplot(dataset['price']);"
      ],
      "execution_count": null,
      "outputs": [
        {
          "output_type": "display_data",
          "data": {
            "image/png": "[encoded data removed]",
            "text/plain": [
              "<Figure size 432x288 with 1 Axes>"
            ]
          },
          "metadata": {
            "tags": [],
            "needs_background": "light"
          }
        }
      ]
    },
    {
      "cell_type": "code",
      "metadata": {
        "id": "07wVCnNQrKrC",
        "colab": {
          "base_uri": "https://localhost:8080/",
          "height": 300
        },
        "outputId": "53d3e35c-fc55-4ee0-ceca-e58f49b8f44c"
      },
      "source": [
        "sns.distplot(dataset['sqft_living']);"
      ],
      "execution_count": null,
      "outputs": [
        {
          "output_type": "display_data",
          "data": {
            "image/png": "[encoded data removed]",
            "text/plain": [
              "<Figure size 432x288 with 1 Axes>"
            ]
          },
          "metadata": {
            "tags": [],
            "needs_background": "light"
          }
        }
      ]
    },
    {
      "cell_type": "markdown",
      "metadata": {
        "id": "z6yRPe_VrhdW"
      },
      "source": [
        "### Sem tratamento de dados"
      ]
    },
    {
      "cell_type": "code",
      "metadata": {
        "id": "IHZis3rYrmi2"
      },
      "source": [
        "from sklearn.linear_model import LinearRegression"
      ],
      "execution_count": null,
      "outputs": []
    },
    {
      "cell_type": "code",
      "metadata": {
        "id": "MQ82CD_Srq9f",
        "colab": {
          "base_uri": "https://localhost:8080/",
          "height": 55
        },
        "outputId": "3242e997-e760-4a2b-e9de-3849cef9d3d7"
      },
      "source": [
        "X = dataset['sqft_living'].values\n",
        "X"
      ],
      "execution_count": null,
      "outputs": [
        {
          "output_type": "execute_result",
          "data": {
            "text/plain": [
              "array([1180, 2570,  770, ..., 1020, 1600, 1020])"
            ]
          },
          "metadata": {
            "tags": []
          },
          "execution_count": 21
        }
      ]
    },
    {
      "cell_type": "code",
      "metadata": {
        "id": "PflK4octrvzH",
        "colab": {
          "base_uri": "https://localhost:8080/",
          "height": 55
        },
        "outputId": "c81ac792-8741-4152-d853-73801c0dc81c"
      },
      "source": [
        "X.shape"
      ],
      "execution_count": null,
      "outputs": [
        {
          "output_type": "execute_result",
          "data": {
            "text/plain": [
              "(21613,)"
            ]
          },
          "metadata": {
            "tags": []
          },
          "execution_count": 22
        }
      ]
    },
    {
      "cell_type": "code",
      "metadata": {
        "id": "wurIog2Jrzap",
        "colab": {
          "base_uri": "https://localhost:8080/",
          "height": 55
        },
        "outputId": "f0712ced-fd21-4caf-9bc3-35f66effdf91"
      },
      "source": [
        "X = X.reshape(-1, 1)\n",
        "X.shape"
      ],
      "execution_count": null,
      "outputs": [
        {
          "output_type": "execute_result",
          "data": {
            "text/plain": [
              "(21613, 1)"
            ]
          },
          "metadata": {
            "tags": []
          },
          "execution_count": 23
        }
      ]
    },
    {
      "cell_type": "code",
      "metadata": {
        "id": "okg8lzVYr43f",
        "colab": {
          "base_uri": "https://localhost:8080/",
          "height": 55
        },
        "outputId": "d2c0eeb9-bd77-4481-a760-ce29b40a2d63"
      },
      "source": [
        "y = dataset['price'].values\n",
        "y"
      ],
      "execution_count": null,
      "outputs": [
        {
          "output_type": "execute_result",
          "data": {
            "text/plain": [
              "array([221900., 538000., 180000., ..., 402101., 400000., 325000.])"
            ]
          },
          "metadata": {
            "tags": []
          },
          "execution_count": 24
        }
      ]
    },
    {
      "cell_type": "code",
      "metadata": {
        "id": "RBwjqSJjr91j",
        "colab": {
          "base_uri": "https://localhost:8080/",
          "height": 55
        },
        "outputId": "e115d04c-8aa4-4b5f-f9f2-631fad96ca55"
      },
      "source": [
        "regressor = LinearRegression()\n",
        "regressor.fit(X, y)"
      ],
      "execution_count": null,
      "outputs": [
        {
          "output_type": "execute_result",
          "data": {
            "text/plain": [
              "LinearRegression(copy_X=True, fit_intercept=True, n_jobs=None, normalize=False)"
            ]
          },
          "metadata": {
            "tags": []
          },
          "execution_count": 25
        }
      ]
    },
    {
      "cell_type": "code",
      "metadata": {
        "id": "MWW0ZBQDsFdL",
        "colab": {
          "base_uri": "https://localhost:8080/",
          "height": 72
        },
        "outputId": "eca8872e-5fda-4ba9-bbb7-7de5eaa1b440"
      },
      "source": [
        "previsoes = regressor.predict(X)\n",
        "previsoes"
      ],
      "execution_count": null,
      "outputs": [
        {
          "output_type": "execute_result",
          "data": {
            "text/plain": [
              "array([287555.06702451, 677621.82640197, 172499.40418656, ...,\n",
              "       242655.29616092, 405416.96554144, 242655.29616092])"
            ]
          },
          "metadata": {
            "tags": []
          },
          "execution_count": 26
        }
      ]
    },
    {
      "cell_type": "code",
      "metadata": {
        "id": "v3RaoS2FsLeB",
        "colab": {
          "base_uri": "https://localhost:8080/",
          "height": 55
        },
        "outputId": "804dba2f-d688-4020-d4a6-f05584ca1835"
      },
      "source": [
        "y"
      ],
      "execution_count": null,
      "outputs": [
        {
          "output_type": "execute_result",
          "data": {
            "text/plain": [
              "array([221900., 538000., 180000., ..., 402101., 400000., 325000.])"
            ]
          },
          "metadata": {
            "tags": []
          },
          "execution_count": 27
        }
      ]
    },
    {
      "cell_type": "code",
      "metadata": {
        "id": "-xJZE22csbls",
        "colab": {
          "base_uri": "https://localhost:8080/",
          "height": 55
        },
        "outputId": "6f879184-9dc9-474b-e320-e4d9b8782e81"
      },
      "source": [
        "from sklearn.metrics import mean_absolute_error, r2_score\n",
        "mean_absolute_error(y, previsoes)"
      ],
      "execution_count": null,
      "outputs": [
        {
          "output_type": "execute_result",
          "data": {
            "text/plain": [
              "173688.2733595311"
            ]
          },
          "metadata": {
            "tags": []
          },
          "execution_count": 28
        }
      ]
    },
    {
      "cell_type": "code",
      "metadata": {
        "id": "gs3_N3VDsvKd",
        "colab": {
          "base_uri": "https://localhost:8080/",
          "height": 55
        },
        "outputId": "95651963-5d70-443f-83d6-e163cd4f5e08"
      },
      "source": [
        "r2_score(y, previsoes)"
      ],
      "execution_count": null,
      "outputs": [
        {
          "output_type": "execute_result",
          "data": {
            "text/plain": [
              "0.4928532179037931"
            ]
          },
          "metadata": {
            "tags": []
          },
          "execution_count": 29
        }
      ]
    },
    {
      "cell_type": "markdown",
      "metadata": {
        "id": "yyzDcjqQrj4J"
      },
      "source": [
        "### Com tratamento de dados"
      ]
    },
    {
      "cell_type": "code",
      "metadata": {
        "id": "yXK_6WYptAPU",
        "colab": {
          "base_uri": "https://localhost:8080/",
          "height": 160
        },
        "outputId": "e3607462-efe3-4622-b657-99c1ef9a87b6"
      },
      "source": [
        "X_novo = np.log(X)\n",
        "X_novo"
      ],
      "execution_count": null,
      "outputs": [
        {
          "output_type": "execute_result",
          "data": {
            "text/plain": [
              "array([[7.07326972],\n",
              "       [7.85166118],\n",
              "       [6.64639051],\n",
              "       ...,\n",
              "       [6.92755791],\n",
              "       [7.37775891],\n",
              "       [6.92755791]])"
            ]
          },
          "metadata": {
            "tags": []
          },
          "execution_count": 41
        }
      ]
    },
    {
      "cell_type": "code",
      "metadata": {
        "id": "NptCqQtQtU11",
        "colab": {
          "base_uri": "https://localhost:8080/",
          "height": 285
        },
        "outputId": "10d55ef1-c7ab-487e-a24c-c83409d03e8e"
      },
      "source": [
        "sns.distplot(X_novo);"
      ],
      "execution_count": null,
      "outputs": [
        {
          "output_type": "display_data",
          "data": {
            "image/png": "[encoded data removed]",
            "text/plain": [
              "<Figure size 432x288 with 1 Axes>"
            ]
          },
          "metadata": {
            "tags": [],
            "needs_background": "light"
          }
        }
      ]
    },
    {
      "cell_type": "code",
      "metadata": {
        "id": "OamlW_Aht5Q0",
        "colab": {
          "base_uri": "https://localhost:8080/",
          "height": 72
        },
        "outputId": "0c3d537b-e368-4e7e-99a3-36192fc952ff"
      },
      "source": [
        "y_novo = np.log(y)\n",
        "y_novo"
      ],
      "execution_count": null,
      "outputs": [
        {
          "output_type": "execute_result",
          "data": {
            "text/plain": [
              "array([12.30998211, 13.19561384, 12.10071213, ..., 12.90445858,\n",
              "       12.89921983, 12.69158046])"
            ]
          },
          "metadata": {
            "tags": []
          },
          "execution_count": 43
        }
      ]
    },
    {
      "cell_type": "code",
      "metadata": {
        "id": "5agI6Gmat9z2",
        "colab": {
          "base_uri": "https://localhost:8080/",
          "height": 285
        },
        "outputId": "8550dbde-38fd-4e2f-f09b-0cfb60f15ac5"
      },
      "source": [
        "sns.distplot(y_novo);"
      ],
      "execution_count": null,
      "outputs": [
        {
          "output_type": "display_data",
          "data": {
            "image/png": "[encoded data removed]",
            "text/plain": [
              "<Figure size 432x288 with 1 Axes>"
            ]
          },
          "metadata": {
            "tags": [],
            "needs_background": "light"
          }
        }
      ]
    },
    {
      "cell_type": "code",
      "metadata": {
        "id": "r-tOmrw1tlpx",
        "colab": {
          "base_uri": "https://localhost:8080/",
          "height": 55
        },
        "outputId": "2bafa61d-bbbf-4d6c-9704-76d7a279b6a3"
      },
      "source": [
        "regressor = LinearRegression()\n",
        "regressor.fit(X_novo, y_novo)\n",
        "previsoes = regressor.predict(X_novo)\n",
        "mean_absolute_error(y_novo, previsoes)"
      ],
      "execution_count": null,
      "outputs": [
        {
          "output_type": "execute_result",
          "data": {
            "text/plain": [
              "0.314671784942507"
            ]
          },
          "metadata": {
            "tags": []
          },
          "execution_count": 51
        }
      ]
    },
    {
      "cell_type": "code",
      "metadata": {
        "id": "-zXwWiCHtyzD",
        "colab": {
          "base_uri": "https://localhost:8080/",
          "height": 55
        },
        "outputId": "7992a4e3-9875-41dd-8357-2a8d5eafe0ef"
      },
      "source": [
        "r2_score(y_novo, previsoes)"
      ],
      "execution_count": null,
      "outputs": [
        {
          "output_type": "execute_result",
          "data": {
            "text/plain": [
              "0.45550706431577015"
            ]
          },
          "metadata": {
            "tags": []
          },
          "execution_count": 52
        }
      ]
    },
    {
      "cell_type": "markdown",
      "metadata": {
        "id": "Xc0ke7RCuobr"
      },
      "source": [
        "## Inicialização de pesos em redes neurais"
      ]
    },
    {
      "cell_type": "code",
      "metadata": {
        "id": "xbKe5brwvKps",
        "colab": {
          "base_uri": "https://localhost:8080/",
          "height": 57
        },
        "outputId": "15795c0f-6c73-4fc5-8ee8-55e2cc988329"
      },
      "source": [
        "import tensorflow as tf\n",
        "tf.__version__"
      ],
      "execution_count": null,
      "outputs": [
        {
          "output_type": "execute_result",
          "data": {
            "application/vnd.google.colaboratory.intrinsic+json": {
              "type": "string"
            },
            "text/plain": [
              "'2.3.0'"
            ]
          },
          "metadata": {
            "tags": []
          },
          "execution_count": 24
        }
      ]
    },
    {
      "cell_type": "markdown",
      "metadata": {
        "id": "8CTAx7_ruq8w"
      },
      "source": [
        "### Inicializadores\n",
        "\n",
        "- https://keras.io/api/layers/initializers/"
      ]
    },
    {
      "cell_type": "code",
      "metadata": {
        "id": "zwvhl1oXvXwx"
      },
      "source": [
        "from tensorflow.keras import initializers"
      ],
      "execution_count": null,
      "outputs": []
    },
    {
      "cell_type": "markdown",
      "metadata": {
        "id": "iRPCZhN7utzR"
      },
      "source": [
        "#### Random normal"
      ]
    },
    {
      "cell_type": "code",
      "metadata": {
        "id": "Ph8xBGUqvcjG"
      },
      "source": [
        "normal = initializers.RandomNormal()\n",
        "dados_normal = normal(shape=[1000])"
      ],
      "execution_count": null,
      "outputs": []
    },
    {
      "cell_type": "code",
      "metadata": {
        "id": "pgiPvhJgvwqy",
        "colab": {
          "base_uri": "https://localhost:8080/",
          "height": 55
        },
        "outputId": "6736ccf7-0857-42c5-8127-05f7aa8c1ab7"
      },
      "source": [
        "np.mean(dados_normal), np.std(dados_normal)"
      ],
      "execution_count": null,
      "outputs": [
        {
          "output_type": "execute_result",
          "data": {
            "text/plain": [
              "(-0.0022486805, 0.049758494)"
            ]
          },
          "metadata": {
            "tags": []
          },
          "execution_count": 28
        }
      ]
    },
    {
      "cell_type": "code",
      "metadata": {
        "id": "oKnPyWkhv5mS",
        "colab": {
          "base_uri": "https://localhost:8080/",
          "height": 285
        },
        "outputId": "34246383-0654-4ad2-cfd4-2b4aff92d9a8"
      },
      "source": [
        "sns.distplot(dados_normal);"
      ],
      "execution_count": null,
      "outputs": [
        {
          "output_type": "display_data",
          "data": {
            "image/png": "[encoded data removed]",
            "text/plain": [
              "<Figure size 432x288 with 1 Axes>"
            ]
          },
          "metadata": {
            "tags": [],
            "needs_background": "light"
          }
        }
      ]
    },
    {
      "cell_type": "markdown",
      "metadata": {
        "id": "sgLIdztZuwiS"
      },
      "source": [
        "#### Random uniform"
      ]
    },
    {
      "cell_type": "code",
      "metadata": {
        "id": "V7QMU5WnwBgh"
      },
      "source": [
        "uniforme = initializers.RandomUniform()\n",
        "dados_uniforme = uniforme(shape=[1000])"
      ],
      "execution_count": null,
      "outputs": []
    },
    {
      "cell_type": "code",
      "metadata": {
        "id": "gghfV8fawNxI",
        "colab": {
          "base_uri": "https://localhost:8080/",
          "height": 285
        },
        "outputId": "667950b6-7637-457e-b21d-7d8702fb6863"
      },
      "source": [
        "sns.distplot(dados_uniforme);"
      ],
      "execution_count": null,
      "outputs": [
        {
          "output_type": "display_data",
          "data": {
            "image/png": "[encoded data removed]",
            "text/plain": [
              "<Figure size 432x288 with 1 Axes>"
            ]
          },
          "metadata": {
            "tags": [],
            "needs_background": "light"
          }
        }
      ]
    },
    {
      "cell_type": "markdown",
      "metadata": {
        "id": "D94paoR0uzNB"
      },
      "source": [
        "#### Glorot normal (Xavier initialization)\n",
        "\n",
        "- Centered on 0 with stddev = sqrt(2 / (fan_in + fan_out)) where fan_in is the number of input units in the weight tensor and fan_out is the number of output units in the weight tensor\n",
        "- https://keras.io/api/layers/initializers/"
      ]
    },
    {
      "cell_type": "code",
      "metadata": {
        "id": "Rad1CYaEw5nD",
        "colab": {
          "base_uri": "https://localhost:8080/",
          "height": 55
        },
        "outputId": "dd9917b6-c722-4f29-e14d-351bc6b52c6d"
      },
      "source": [
        "import math\n",
        "math.sqrt(2 / (10 + 100))"
      ],
      "execution_count": null,
      "outputs": [
        {
          "output_type": "execute_result",
          "data": {
            "text/plain": [
              "0.13483997249264842"
            ]
          },
          "metadata": {
            "tags": []
          },
          "execution_count": 34
        }
      ]
    },
    {
      "cell_type": "code",
      "metadata": {
        "id": "HkZsJEu8xCcY",
        "colab": {
          "base_uri": "https://localhost:8080/",
          "height": 55
        },
        "outputId": "2c79cf16-b4e5-47dd-c810-2c2f1f53b4cc"
      },
      "source": [
        "math.sqrt(2 / (100 + 100))"
      ],
      "execution_count": null,
      "outputs": [
        {
          "output_type": "execute_result",
          "data": {
            "text/plain": [
              "0.1"
            ]
          },
          "metadata": {
            "tags": []
          },
          "execution_count": 35
        }
      ]
    },
    {
      "cell_type": "code",
      "metadata": {
        "id": "myLziZV3xGCy",
        "colab": {
          "base_uri": "https://localhost:8080/",
          "height": 55
        },
        "outputId": "09fb1449-33b0-4b1b-9ff0-dad10d18d716"
      },
      "source": [
        "math.sqrt(2 / (100 + 1))"
      ],
      "execution_count": null,
      "outputs": [
        {
          "output_type": "execute_result",
          "data": {
            "text/plain": [
              "0.14071950894605836"
            ]
          },
          "metadata": {
            "tags": []
          },
          "execution_count": 36
        }
      ]
    },
    {
      "cell_type": "code",
      "metadata": {
        "id": "LVFuGsKywxm3"
      },
      "source": [
        "# 10 -> 100 -> 100 -> 1"
      ],
      "execution_count": null,
      "outputs": []
    },
    {
      "cell_type": "code",
      "metadata": {
        "id": "YG0mo8POxOt5"
      },
      "source": [
        "normal_glorot = initializers.GlorotNormal()\n",
        "dados_normal_glorot = normal_glorot(shape=[1000])"
      ],
      "execution_count": null,
      "outputs": []
    },
    {
      "cell_type": "code",
      "metadata": {
        "id": "LR_rgkgSxhGj",
        "colab": {
          "base_uri": "https://localhost:8080/",
          "height": 285
        },
        "outputId": "d59b5fe9-133a-4bc9-c840-933bedb768c1"
      },
      "source": [
        "sns.distplot(dados_normal_glorot);"
      ],
      "execution_count": null,
      "outputs": [
        {
          "output_type": "display_data",
          "data": {
            "image/png": "[encoded data removed]",
            "text/plain": [
              "<Figure size 432x288 with 1 Axes>"
            ]
          },
          "metadata": {
            "tags": [],
            "needs_background": "light"
          }
        }
      ]
    },
    {
      "cell_type": "markdown",
      "metadata": {
        "id": "fkFs2F6Qu2ZU"
      },
      "source": [
        "#### Glorot uniform"
      ]
    },
    {
      "cell_type": "code",
      "metadata": {
        "id": "dcwQVXDAxmE1"
      },
      "source": [
        "uniforme_glorot = initializers.GlorotUniform()\n",
        "dados_uniforme_glorot = uniforme_glorot(shape=[1000])"
      ],
      "execution_count": null,
      "outputs": []
    },
    {
      "cell_type": "code",
      "metadata": {
        "id": "KJ-VxkcxxwUa",
        "colab": {
          "base_uri": "https://localhost:8080/",
          "height": 285
        },
        "outputId": "4de4b398-bf83-4e62-bb78-5e2334998d9f"
      },
      "source": [
        "sns.distplot(dados_uniforme_glorot);"
      ],
      "execution_count": null,
      "outputs": [
        {
          "output_type": "display_data",
          "data": {
            "image/png": "[encoded data removed]",
            "text/plain": [
              "<Figure size 432x288 with 1 Axes>"
            ]
          },
          "metadata": {
            "tags": [],
            "needs_background": "light"
          }
        }
      ]
    },
    {
      "cell_type": "markdown",
      "metadata": {
        "id": "L5yaRuq4yCmN"
      },
      "source": [
        "## Testes de normalidade\n",
        "\n",
        "- Estatística paramétrica: os dados estão em alguma distribuição, geralmente a distribuição normal\n",
        "- Estatística não paramétrica: os dados estão em outra distribuição (ou desconhecida)\n",
        "- Se os dados são \"normais\", usamos estatística paramétrica. Caso contrário, usamos estatística não paramétrica"
      ]
    },
    {
      "cell_type": "code",
      "metadata": {
        "id": "qRb9Q5OXyFKy"
      },
      "source": [
        "from scipy.stats import skewnorm\n",
        "dados_normais = stats.norm.rvs(size = 1000)\n",
        "dados_nao_normais = skewnorm.rvs(a = -10, size = 1000)"
      ],
      "execution_count": null,
      "outputs": []
    },
    {
      "cell_type": "markdown",
      "metadata": {
        "id": "Ltp-GmXQyHl1"
      },
      "source": [
        "### Histograma"
      ]
    },
    {
      "cell_type": "code",
      "metadata": {
        "id": "IkVqaLthzGz7",
        "colab": {
          "base_uri": "https://localhost:8080/",
          "height": 285
        },
        "outputId": "6413df1f-bb93-477d-89c6-0132a275cfb2"
      },
      "source": [
        "sns.distplot(dados_normais);"
      ],
      "execution_count": null,
      "outputs": [
        {
          "output_type": "display_data",
          "data": {
            "image/png": "[encoded data removed]",
            "text/plain": [
              "<Figure size 432x288 with 1 Axes>"
            ]
          },
          "metadata": {
            "tags": [],
            "needs_background": "light"
          }
        }
      ]
    },
    {
      "cell_type": "code",
      "metadata": {
        "id": "st6cWwUCzLW-",
        "colab": {
          "base_uri": "https://localhost:8080/",
          "height": 286
        },
        "outputId": "8f6a501a-7ef9-421b-f50c-c9e7e491ab7f"
      },
      "source": [
        "sns.distplot(dados_nao_normais);"
      ],
      "execution_count": null,
      "outputs": [
        {
          "output_type": "display_data",
          "data": {
            "image/png": "[encoded data removed]",
            "text/plain": [
              "<Figure size 432x288 with 1 Axes>"
            ]
          },
          "metadata": {
            "tags": [],
            "needs_background": "light"
          }
        }
      ]
    },
    {
      "cell_type": "markdown",
      "metadata": {
        "id": "llkUXN14yJdG"
      },
      "source": [
        "### Quantile-quantile plot"
      ]
    },
    {
      "cell_type": "code",
      "metadata": {
        "id": "L2HcYx8izYxg"
      },
      "source": [
        "from statsmodels.graphics.gofplots import qqplot"
      ],
      "execution_count": null,
      "outputs": []
    },
    {
      "cell_type": "code",
      "metadata": {
        "id": "o6hLa7cpzk6K",
        "colab": {
          "base_uri": "https://localhost:8080/",
          "height": 299
        },
        "outputId": "b255d608-ce3f-4c08-cfd9-13d9e5e36aab"
      },
      "source": [
        "qqplot(dados_normais, line = 's');"
      ],
      "execution_count": null,
      "outputs": [
        {
          "output_type": "display_data",
          "data": {
            "image/png": "[encoded data removed]",
            "text/plain": [
              "<Figure size 432x288 with 1 Axes>"
            ]
          },
          "metadata": {
            "tags": [],
            "needs_background": "light"
          }
        }
      ]
    },
    {
      "cell_type": "code",
      "metadata": {
        "id": "SFnF5r03zqWG",
        "colab": {
          "base_uri": "https://localhost:8080/",
          "height": 299
        },
        "outputId": "af8d4742-970e-49ba-b4af-69573b76ab6f"
      },
      "source": [
        "qqplot(dados_nao_normais, line = 's');"
      ],
      "execution_count": null,
      "outputs": [
        {
          "output_type": "display_data",
          "data": {
            "image/png": "[encoded data removed]",
            "text/plain": [
              "<Figure size 432x288 with 1 Axes>"
            ]
          },
          "metadata": {
            "tags": [],
            "needs_background": "light"
          }
        }
      ]
    },
    {
      "cell_type": "markdown",
      "metadata": {
        "id": "XUtJyKcGyNjo"
      },
      "source": [
        "### Teste de Shapiro-Wilk\n",
        "\n",
        "- p-value é usado para interpretar o teste estatístico\n",
        "- p <= alpha: rejeita a hipótese, não é normal\n",
        "- p > alpha: não rejeita a hipótese, é normal"
      ]
    },
    {
      "cell_type": "code",
      "metadata": {
        "id": "LSbeRYpP0DP6"
      },
      "source": [
        "from scipy.stats import shapiro"
      ],
      "execution_count": null,
      "outputs": []
    },
    {
      "cell_type": "code",
      "metadata": {
        "id": "QIkg3d3X0HWP",
        "colab": {
          "base_uri": "https://localhost:8080/",
          "height": 55
        },
        "outputId": "6b04d581-e9f0-435f-c9d1-de928af3c5ac"
      },
      "source": [
        "_, p = shapiro(dados_normais)\n",
        "p"
      ],
      "execution_count": null,
      "outputs": [
        {
          "output_type": "execute_result",
          "data": {
            "text/plain": [
              "0.4558817744255066"
            ]
          },
          "metadata": {
            "tags": []
          },
          "execution_count": 52
        }
      ]
    },
    {
      "cell_type": "code",
      "metadata": {
        "id": "qoCLmCr00O0c",
        "colab": {
          "base_uri": "https://localhost:8080/",
          "height": 55
        },
        "outputId": "ec894eb9-941a-4906-9f99-b9a32873bec3"
      },
      "source": [
        "alpha = 0.05\n",
        "if p > alpha:\n",
        "  print('Distribuição normal')\n",
        "else:\n",
        "  print('Distribuição não normal')"
      ],
      "execution_count": null,
      "outputs": [
        {
          "output_type": "stream",
          "text": [
            "Distribuição normal\n"
          ],
          "name": "stdout"
        }
      ]
    },
    {
      "cell_type": "code",
      "metadata": {
        "id": "FhND0jZQ0fJV",
        "colab": {
          "base_uri": "https://localhost:8080/",
          "height": 55
        },
        "outputId": "de331e79-3405-4c87-962e-4a3c42e6a10c"
      },
      "source": [
        "_, p = shapiro(dados_nao_normais)\n",
        "p"
      ],
      "execution_count": null,
      "outputs": [
        {
          "output_type": "execute_result",
          "data": {
            "text/plain": [
              "3.283418168093501e-18"
            ]
          },
          "metadata": {
            "tags": []
          },
          "execution_count": 54
        }
      ]
    },
    {
      "cell_type": "code",
      "metadata": {
        "id": "HByXwDId0mEV",
        "colab": {
          "base_uri": "https://localhost:8080/",
          "height": 55
        },
        "outputId": "e7809bd8-bac3-43cc-b970-bdaf57724b64"
      },
      "source": [
        "alpha = 0.05\n",
        "if p > alpha:\n",
        "  print('Distribuição normal')\n",
        "else:\n",
        "  print('Distribuição não normal')"
      ],
      "execution_count": null,
      "outputs": [
        {
          "output_type": "stream",
          "text": [
            "Distribuição não normal\n"
          ],
          "name": "stdout"
        }
      ]
    }
  ]
}