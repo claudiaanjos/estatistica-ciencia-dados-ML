{
  "nbformat": 4,
  "nbformat_minor": 0,
  "metadata": {
    "colab": {
      "provenance": []
    },
    "kernelspec": {
      "name": "python3",
      "display_name": "Python 3"
    }
  },
  "cells": [
    {
      "cell_type": "markdown",
      "metadata": {
        "id": "bZR6mEVWATfV"
      },
      "source": [
        "# Dados absolutos e relativos"
      ]
    },
    {
      "cell_type": "code",
      "metadata": {
        "id": "X-IfpavUy8uv"
      },
      "source": [
        "import pandas as pd"
      ],
      "execution_count": null,
      "outputs": []
    },
    {
      "cell_type": "markdown",
      "metadata": {
        "id": "ru2T1KWJAWMC"
      },
      "source": [
        "## Percentuais"
      ]
    },
    {
      "cell_type": "code",
      "metadata": {
        "id": "V0_QuqxDzB0W"
      },
      "source": [
        "dados = {'emprego': ['Adminstrador_banco_dados', 'Programador', 'Arquiteto_redes'],\n",
        "         'nova_jersey': [97350, 82080, 112840],\n",
        "         'florida': [77140, 71540, 62310]}"
      ],
      "execution_count": null,
      "outputs": []
    },
    {
      "cell_type": "code",
      "metadata": {
        "id": "YhjivyKSzdb4",
        "colab": {
          "base_uri": "https://localhost:8080/",
          "height": 55
        },
        "outputId": "cf595c61-acfe-4295-bc6c-432bf3b631e9"
      },
      "source": [
        "type(dados)"
      ],
      "execution_count": null,
      "outputs": [
        {
          "output_type": "execute_result",
          "data": {
            "text/plain": [
              "dict"
            ]
          },
          "metadata": {
            "tags": []
          },
          "execution_count": 3
        }
      ]
    },
    {
      "cell_type": "code",
      "metadata": {
        "id": "j-X2IqxWziPB",
        "colab": {
          "base_uri": "https://localhost:8080/",
          "height": 90
        },
        "outputId": "c5140706-bd36-4dc7-8e44-324de5c91f90"
      },
      "source": [
        "dados"
      ],
      "execution_count": null,
      "outputs": [
        {
          "output_type": "execute_result",
          "data": {
            "text/plain": [
              "{'emprego': ['Adminstrador_banco_dados', 'Programador', 'Arquiteto_redes'],\n",
              " 'florida': [77140, 71540, 62310],\n",
              " 'nova_jersey': [97350, 82080, 112840]}"
            ]
          },
          "metadata": {
            "tags": []
          },
          "execution_count": 4
        }
      ]
    },
    {
      "cell_type": "code",
      "metadata": {
        "id": "jV0bbjRdzlRD"
      },
      "source": [
        "dataset = pd.DataFrame(dados)"
      ],
      "execution_count": null,
      "outputs": []
    },
    {
      "cell_type": "code",
      "metadata": {
        "id": "5zEj9ru8zqM7",
        "colab": {
          "base_uri": "https://localhost:8080/",
          "height": 164
        },
        "outputId": "9cc5a321-39aa-42de-a666-597d9c0d8918"
      },
      "source": [
        "dataset"
      ],
      "execution_count": null,
      "outputs": [
        {
          "output_type": "execute_result",
          "data": {
            "text/html": [
              "<div>\n",
              "<style scoped>\n",
              "    .dataframe tbody tr th:only-of-type {\n",
              "        vertical-align: middle;\n",
              "    }\n",
              "\n",
              "    .dataframe tbody tr th {\n",
              "        vertical-align: top;\n",
              "    }\n",
              "\n",
              "    .dataframe thead th {\n",
              "        text-align: right;\n",
              "    }\n",
              "</style>\n",
              "<table border=\"1\" class=\"dataframe\">\n",
              "  <thead>\n",
              "    <tr style=\"text-align: right;\">\n",
              "      <th></th>\n",
              "      <th>emprego</th>\n",
              "      <th>nova_jersey</th>\n",
              "      <th>florida</th>\n",
              "    </tr>\n",
              "  </thead>\n",
              "  <tbody>\n",
              "    <tr>\n",
              "      <th>0</th>\n",
              "      <td>Adminstrador_banco_dados</td>\n",
              "      <td>97350</td>\n",
              "      <td>77140</td>\n",
              "    </tr>\n",
              "    <tr>\n",
              "      <th>1</th>\n",
              "      <td>Programador</td>\n",
              "      <td>82080</td>\n",
              "      <td>71540</td>\n",
              "    </tr>\n",
              "    <tr>\n",
              "      <th>2</th>\n",
              "      <td>Arquiteto_redes</td>\n",
              "      <td>112840</td>\n",
              "      <td>62310</td>\n",
              "    </tr>\n",
              "  </tbody>\n",
              "</table>\n",
              "</div>"
            ],
            "text/plain": [
              "                    emprego  nova_jersey  florida\n",
              "0  Adminstrador_banco_dados        97350    77140\n",
              "1               Programador        82080    71540\n",
              "2           Arquiteto_redes       112840    62310"
            ]
          },
          "metadata": {
            "tags": []
          },
          "execution_count": 6
        }
      ]
    },
    {
      "cell_type": "code",
      "metadata": {
        "id": "sDgYTLlMzyQm",
        "colab": {
          "base_uri": "https://localhost:8080/",
          "height": 55
        },
        "outputId": "7ea40554-881c-4617-a98d-3403f2da8b5c"
      },
      "source": [
        "dataset['nova_jersey'].sum()"
      ],
      "execution_count": null,
      "outputs": [
        {
          "output_type": "execute_result",
          "data": {
            "text/plain": [
              "292270"
            ]
          },
          "metadata": {
            "tags": []
          },
          "execution_count": 7
        }
      ]
    },
    {
      "cell_type": "code",
      "metadata": {
        "id": "hvP4ywLYz3XV",
        "colab": {
          "base_uri": "https://localhost:8080/",
          "height": 55
        },
        "outputId": "958c8872-d7ed-4c3f-8dc9-db675f97a362"
      },
      "source": [
        "dataset['florida'].sum()"
      ],
      "execution_count": null,
      "outputs": [
        {
          "output_type": "execute_result",
          "data": {
            "text/plain": [
              "210990"
            ]
          },
          "metadata": {
            "tags": []
          },
          "execution_count": 8
        }
      ]
    },
    {
      "cell_type": "code",
      "metadata": {
        "id": "Klb0tBU0z9hg"
      },
      "source": [
        "dataset['%_nova_jersey'] = (dataset['nova_jersey'] / dataset['nova_jersey'].sum()) * 100"
      ],
      "execution_count": null,
      "outputs": []
    },
    {
      "cell_type": "code",
      "metadata": {
        "id": "uIs_b7uY0OCS",
        "colab": {
          "base_uri": "https://localhost:8080/",
          "height": 164
        },
        "outputId": "75872546-b00b-4ac2-e30f-3c3ee2f89612"
      },
      "source": [
        "dataset"
      ],
      "execution_count": null,
      "outputs": [
        {
          "output_type": "execute_result",
          "data": {
            "text/html": [
              "<div>\n",
              "<style scoped>\n",
              "    .dataframe tbody tr th:only-of-type {\n",
              "        vertical-align: middle;\n",
              "    }\n",
              "\n",
              "    .dataframe tbody tr th {\n",
              "        vertical-align: top;\n",
              "    }\n",
              "\n",
              "    .dataframe thead th {\n",
              "        text-align: right;\n",
              "    }\n",
              "</style>\n",
              "<table border=\"1\" class=\"dataframe\">\n",
              "  <thead>\n",
              "    <tr style=\"text-align: right;\">\n",
              "      <th></th>\n",
              "      <th>emprego</th>\n",
              "      <th>nova_jersey</th>\n",
              "      <th>florida</th>\n",
              "      <th>%_nova_jersey</th>\n",
              "    </tr>\n",
              "  </thead>\n",
              "  <tbody>\n",
              "    <tr>\n",
              "      <th>0</th>\n",
              "      <td>Adminstrador_banco_dados</td>\n",
              "      <td>97350</td>\n",
              "      <td>77140</td>\n",
              "      <td>33.308242</td>\n",
              "    </tr>\n",
              "    <tr>\n",
              "      <th>1</th>\n",
              "      <td>Programador</td>\n",
              "      <td>82080</td>\n",
              "      <td>71540</td>\n",
              "      <td>28.083621</td>\n",
              "    </tr>\n",
              "    <tr>\n",
              "      <th>2</th>\n",
              "      <td>Arquiteto_redes</td>\n",
              "      <td>112840</td>\n",
              "      <td>62310</td>\n",
              "      <td>38.608136</td>\n",
              "    </tr>\n",
              "  </tbody>\n",
              "</table>\n",
              "</div>"
            ],
            "text/plain": [
              "                    emprego  nova_jersey  florida  %_nova_jersey\n",
              "0  Adminstrador_banco_dados        97350    77140      33.308242\n",
              "1               Programador        82080    71540      28.083621\n",
              "2           Arquiteto_redes       112840    62310      38.608136"
            ]
          },
          "metadata": {
            "tags": []
          },
          "execution_count": 10
        }
      ]
    },
    {
      "cell_type": "code",
      "metadata": {
        "id": "G4UBqpJM0SWS"
      },
      "source": [
        "dataset['%_florida'] = (dataset['florida'] / dataset['florida'].sum()) * 100"
      ],
      "execution_count": null,
      "outputs": []
    },
    {
      "cell_type": "code",
      "metadata": {
        "id": "iMXYeoms0Z1h",
        "colab": {
          "base_uri": "https://localhost:8080/",
          "height": 164
        },
        "outputId": "bd02ba3c-68c6-452c-821d-c03655f9104e"
      },
      "source": [
        "dataset"
      ],
      "execution_count": null,
      "outputs": [
        {
          "output_type": "execute_result",
          "data": {
            "text/html": [
              "<div>\n",
              "<style scoped>\n",
              "    .dataframe tbody tr th:only-of-type {\n",
              "        vertical-align: middle;\n",
              "    }\n",
              "\n",
              "    .dataframe tbody tr th {\n",
              "        vertical-align: top;\n",
              "    }\n",
              "\n",
              "    .dataframe thead th {\n",
              "        text-align: right;\n",
              "    }\n",
              "</style>\n",
              "<table border=\"1\" class=\"dataframe\">\n",
              "  <thead>\n",
              "    <tr style=\"text-align: right;\">\n",
              "      <th></th>\n",
              "      <th>emprego</th>\n",
              "      <th>nova_jersey</th>\n",
              "      <th>florida</th>\n",
              "      <th>%_nova_jersey</th>\n",
              "      <th>%_florida</th>\n",
              "    </tr>\n",
              "  </thead>\n",
              "  <tbody>\n",
              "    <tr>\n",
              "      <th>0</th>\n",
              "      <td>Adminstrador_banco_dados</td>\n",
              "      <td>97350</td>\n",
              "      <td>77140</td>\n",
              "      <td>33.308242</td>\n",
              "      <td>36.560974</td>\n",
              "    </tr>\n",
              "    <tr>\n",
              "      <th>1</th>\n",
              "      <td>Programador</td>\n",
              "      <td>82080</td>\n",
              "      <td>71540</td>\n",
              "      <td>28.083621</td>\n",
              "      <td>33.906820</td>\n",
              "    </tr>\n",
              "    <tr>\n",
              "      <th>2</th>\n",
              "      <td>Arquiteto_redes</td>\n",
              "      <td>112840</td>\n",
              "      <td>62310</td>\n",
              "      <td>38.608136</td>\n",
              "      <td>29.532205</td>\n",
              "    </tr>\n",
              "  </tbody>\n",
              "</table>\n",
              "</div>"
            ],
            "text/plain": [
              "                    emprego  nova_jersey  florida  %_nova_jersey  %_florida\n",
              "0  Adminstrador_banco_dados        97350    77140      33.308242  36.560974\n",
              "1               Programador        82080    71540      28.083621  33.906820\n",
              "2           Arquiteto_redes       112840    62310      38.608136  29.532205"
            ]
          },
          "metadata": {
            "tags": []
          },
          "execution_count": 12
        }
      ]
    },
    {
      "cell_type": "markdown",
      "metadata": {
        "id": "V83Bw-1BLcfA"
      },
      "source": [
        "## Exercício percentuais"
      ]
    },
    {
      "cell_type": "code",
      "metadata": {
        "id": "xInyjWD704re"
      },
      "source": [
        "dataset = pd.read_csv('census.csv')"
      ],
      "execution_count": null,
      "outputs": []
    },
    {
      "cell_type": "code",
      "metadata": {
        "id": "npqJEOwZ06KW",
        "colab": {
          "base_uri": "https://localhost:8080/",
          "height": 351
        },
        "outputId": "07e207d6-64c2-4a4e-f468-4626d08d2b4f"
      },
      "source": [
        "dataset.head()"
      ],
      "execution_count": null,
      "outputs": [
        {
          "output_type": "execute_result",
          "data": {
            "text/html": [
              "<div>\n",
              "<style scoped>\n",
              "    .dataframe tbody tr th:only-of-type {\n",
              "        vertical-align: middle;\n",
              "    }\n",
              "\n",
              "    .dataframe tbody tr th {\n",
              "        vertical-align: top;\n",
              "    }\n",
              "\n",
              "    .dataframe thead th {\n",
              "        text-align: right;\n",
              "    }\n",
              "</style>\n",
              "<table border=\"1\" class=\"dataframe\">\n",
              "  <thead>\n",
              "    <tr style=\"text-align: right;\">\n",
              "      <th></th>\n",
              "      <th>age</th>\n",
              "      <th>workclass</th>\n",
              "      <th>final-weight</th>\n",
              "      <th>education</th>\n",
              "      <th>education-num</th>\n",
              "      <th>marital-status</th>\n",
              "      <th>occupation</th>\n",
              "      <th>relationship</th>\n",
              "      <th>race</th>\n",
              "      <th>sex</th>\n",
              "      <th>capital-gain</th>\n",
              "      <th>capital-loos</th>\n",
              "      <th>hour-per-week</th>\n",
              "      <th>native-country</th>\n",
              "      <th>income</th>\n",
              "    </tr>\n",
              "  </thead>\n",
              "  <tbody>\n",
              "    <tr>\n",
              "      <th>0</th>\n",
              "      <td>39</td>\n",
              "      <td>State-gov</td>\n",
              "      <td>77516</td>\n",
              "      <td>Bachelors</td>\n",
              "      <td>13</td>\n",
              "      <td>Never-married</td>\n",
              "      <td>Adm-clerical</td>\n",
              "      <td>Not-in-family</td>\n",
              "      <td>White</td>\n",
              "      <td>Male</td>\n",
              "      <td>2174</td>\n",
              "      <td>0</td>\n",
              "      <td>40</td>\n",
              "      <td>United-States</td>\n",
              "      <td>&lt;=50K</td>\n",
              "    </tr>\n",
              "    <tr>\n",
              "      <th>1</th>\n",
              "      <td>50</td>\n",
              "      <td>Self-emp-not-inc</td>\n",
              "      <td>83311</td>\n",
              "      <td>Bachelors</td>\n",
              "      <td>13</td>\n",
              "      <td>Married-civ-spouse</td>\n",
              "      <td>Exec-managerial</td>\n",
              "      <td>Husband</td>\n",
              "      <td>White</td>\n",
              "      <td>Male</td>\n",
              "      <td>0</td>\n",
              "      <td>0</td>\n",
              "      <td>13</td>\n",
              "      <td>United-States</td>\n",
              "      <td>&lt;=50K</td>\n",
              "    </tr>\n",
              "    <tr>\n",
              "      <th>2</th>\n",
              "      <td>38</td>\n",
              "      <td>Private</td>\n",
              "      <td>215646</td>\n",
              "      <td>HS-grad</td>\n",
              "      <td>9</td>\n",
              "      <td>Divorced</td>\n",
              "      <td>Handlers-cleaners</td>\n",
              "      <td>Not-in-family</td>\n",
              "      <td>White</td>\n",
              "      <td>Male</td>\n",
              "      <td>0</td>\n",
              "      <td>0</td>\n",
              "      <td>40</td>\n",
              "      <td>United-States</td>\n",
              "      <td>&lt;=50K</td>\n",
              "    </tr>\n",
              "    <tr>\n",
              "      <th>3</th>\n",
              "      <td>53</td>\n",
              "      <td>Private</td>\n",
              "      <td>234721</td>\n",
              "      <td>11th</td>\n",
              "      <td>7</td>\n",
              "      <td>Married-civ-spouse</td>\n",
              "      <td>Handlers-cleaners</td>\n",
              "      <td>Husband</td>\n",
              "      <td>Black</td>\n",
              "      <td>Male</td>\n",
              "      <td>0</td>\n",
              "      <td>0</td>\n",
              "      <td>40</td>\n",
              "      <td>United-States</td>\n",
              "      <td>&lt;=50K</td>\n",
              "    </tr>\n",
              "    <tr>\n",
              "      <th>4</th>\n",
              "      <td>28</td>\n",
              "      <td>Private</td>\n",
              "      <td>338409</td>\n",
              "      <td>Bachelors</td>\n",
              "      <td>13</td>\n",
              "      <td>Married-civ-spouse</td>\n",
              "      <td>Prof-specialty</td>\n",
              "      <td>Wife</td>\n",
              "      <td>Black</td>\n",
              "      <td>Female</td>\n",
              "      <td>0</td>\n",
              "      <td>0</td>\n",
              "      <td>40</td>\n",
              "      <td>Cuba</td>\n",
              "      <td>&lt;=50K</td>\n",
              "    </tr>\n",
              "  </tbody>\n",
              "</table>\n",
              "</div>"
            ],
            "text/plain": [
              "   age          workclass  final-weight  ... hour-per-week  native-country  income\n",
              "0   39          State-gov         77516  ...            40   United-States   <=50K\n",
              "1   50   Self-emp-not-inc         83311  ...            13   United-States   <=50K\n",
              "2   38            Private        215646  ...            40   United-States   <=50K\n",
              "3   53            Private        234721  ...            40   United-States   <=50K\n",
              "4   28            Private        338409  ...            40            Cuba   <=50K\n",
              "\n",
              "[5 rows x 15 columns]"
            ]
          },
          "metadata": {
            "tags": []
          },
          "execution_count": 14
        }
      ]
    },
    {
      "cell_type": "code",
      "metadata": {
        "id": "qfi-eIS_08Gp",
        "colab": {
          "base_uri": "https://localhost:8080/",
          "height": 447
        },
        "outputId": "566c290f-109e-474c-d31f-37e62f507b78"
      },
      "source": [
        "dataset2 = dataset[['income', 'education']]\n",
        "dataset2"
      ],
      "execution_count": null,
      "outputs": [
        {
          "output_type": "execute_result",
          "data": {
            "text/html": [
              "<div>\n",
              "<style scoped>\n",
              "    .dataframe tbody tr th:only-of-type {\n",
              "        vertical-align: middle;\n",
              "    }\n",
              "\n",
              "    .dataframe tbody tr th {\n",
              "        vertical-align: top;\n",
              "    }\n",
              "\n",
              "    .dataframe thead th {\n",
              "        text-align: right;\n",
              "    }\n",
              "</style>\n",
              "<table border=\"1\" class=\"dataframe\">\n",
              "  <thead>\n",
              "    <tr style=\"text-align: right;\">\n",
              "      <th></th>\n",
              "      <th>income</th>\n",
              "      <th>education</th>\n",
              "    </tr>\n",
              "  </thead>\n",
              "  <tbody>\n",
              "    <tr>\n",
              "      <th>0</th>\n",
              "      <td>&lt;=50K</td>\n",
              "      <td>Bachelors</td>\n",
              "    </tr>\n",
              "    <tr>\n",
              "      <th>1</th>\n",
              "      <td>&lt;=50K</td>\n",
              "      <td>Bachelors</td>\n",
              "    </tr>\n",
              "    <tr>\n",
              "      <th>2</th>\n",
              "      <td>&lt;=50K</td>\n",
              "      <td>HS-grad</td>\n",
              "    </tr>\n",
              "    <tr>\n",
              "      <th>3</th>\n",
              "      <td>&lt;=50K</td>\n",
              "      <td>11th</td>\n",
              "    </tr>\n",
              "    <tr>\n",
              "      <th>4</th>\n",
              "      <td>&lt;=50K</td>\n",
              "      <td>Bachelors</td>\n",
              "    </tr>\n",
              "    <tr>\n",
              "      <th>...</th>\n",
              "      <td>...</td>\n",
              "      <td>...</td>\n",
              "    </tr>\n",
              "    <tr>\n",
              "      <th>32556</th>\n",
              "      <td>&lt;=50K</td>\n",
              "      <td>Assoc-acdm</td>\n",
              "    </tr>\n",
              "    <tr>\n",
              "      <th>32557</th>\n",
              "      <td>&gt;50K</td>\n",
              "      <td>HS-grad</td>\n",
              "    </tr>\n",
              "    <tr>\n",
              "      <th>32558</th>\n",
              "      <td>&lt;=50K</td>\n",
              "      <td>HS-grad</td>\n",
              "    </tr>\n",
              "    <tr>\n",
              "      <th>32559</th>\n",
              "      <td>&lt;=50K</td>\n",
              "      <td>HS-grad</td>\n",
              "    </tr>\n",
              "    <tr>\n",
              "      <th>32560</th>\n",
              "      <td>&gt;50K</td>\n",
              "      <td>HS-grad</td>\n",
              "    </tr>\n",
              "  </tbody>\n",
              "</table>\n",
              "<p>32561 rows × 2 columns</p>\n",
              "</div>"
            ],
            "text/plain": [
              "       income    education\n",
              "0       <=50K    Bachelors\n",
              "1       <=50K    Bachelors\n",
              "2       <=50K      HS-grad\n",
              "3       <=50K         11th\n",
              "4       <=50K    Bachelors\n",
              "...       ...          ...\n",
              "32556   <=50K   Assoc-acdm\n",
              "32557    >50K      HS-grad\n",
              "32558   <=50K      HS-grad\n",
              "32559   <=50K      HS-grad\n",
              "32560    >50K      HS-grad\n",
              "\n",
              "[32561 rows x 2 columns]"
            ]
          },
          "metadata": {
            "tags": []
          },
          "execution_count": 15
        }
      ]
    },
    {
      "cell_type": "code",
      "metadata": {
        "id": "2nduN5sH0-Qc"
      },
      "source": [
        "dataset3 = dataset2.groupby(['education', 'income'])['education'].count()"
      ],
      "execution_count": null,
      "outputs": []
    },
    {
      "cell_type": "code",
      "metadata": {
        "id": "yTFVXP_c1AKM",
        "colab": {
          "base_uri": "https://localhost:8080/",
          "height": 618
        },
        "outputId": "9bb1382a-6804-4cca-f869-89edc94772a5"
      },
      "source": [
        "dataset3"
      ],
      "execution_count": null,
      "outputs": [
        {
          "output_type": "execute_result",
          "data": {
            "text/plain": [
              "education      income\n",
              " 10th           <=50K     871\n",
              "                >50K       62\n",
              " 11th           <=50K    1115\n",
              "                >50K       60\n",
              " 12th           <=50K     400\n",
              "                >50K       33\n",
              " 1st-4th        <=50K     162\n",
              "                >50K        6\n",
              " 5th-6th        <=50K     317\n",
              "                >50K       16\n",
              " 7th-8th        <=50K     606\n",
              "                >50K       40\n",
              " 9th            <=50K     487\n",
              "                >50K       27\n",
              " Assoc-acdm     <=50K     802\n",
              "                >50K      265\n",
              " Assoc-voc      <=50K    1021\n",
              "                >50K      361\n",
              " Bachelors      <=50K    3134\n",
              "                >50K     2221\n",
              " Doctorate      <=50K     107\n",
              "                >50K      306\n",
              " HS-grad        <=50K    8826\n",
              "                >50K     1675\n",
              " Masters        <=50K     764\n",
              "                >50K      959\n",
              " Preschool      <=50K      51\n",
              " Prof-school    <=50K     153\n",
              "                >50K      423\n",
              " Some-college   <=50K    5904\n",
              "                >50K     1387\n",
              "Name: education, dtype: int64"
            ]
          },
          "metadata": {
            "tags": []
          },
          "execution_count": 17
        }
      ]
    },
    {
      "cell_type": "code",
      "metadata": {
        "id": "aOaZendG1Byn",
        "colab": {
          "base_uri": "https://localhost:8080/",
          "height": 600
        },
        "outputId": "012bc584-9b7e-43d0-ac51-1ef68a7d35e8"
      },
      "source": [
        "dataset3.index"
      ],
      "execution_count": null,
      "outputs": [
        {
          "output_type": "execute_result",
          "data": {
            "text/plain": [
              "MultiIndex([(        ' 10th', ' <=50K'),\n",
              "            (        ' 10th',  ' >50K'),\n",
              "            (        ' 11th', ' <=50K'),\n",
              "            (        ' 11th',  ' >50K'),\n",
              "            (        ' 12th', ' <=50K'),\n",
              "            (        ' 12th',  ' >50K'),\n",
              "            (     ' 1st-4th', ' <=50K'),\n",
              "            (     ' 1st-4th',  ' >50K'),\n",
              "            (     ' 5th-6th', ' <=50K'),\n",
              "            (     ' 5th-6th',  ' >50K'),\n",
              "            (     ' 7th-8th', ' <=50K'),\n",
              "            (     ' 7th-8th',  ' >50K'),\n",
              "            (         ' 9th', ' <=50K'),\n",
              "            (         ' 9th',  ' >50K'),\n",
              "            (  ' Assoc-acdm', ' <=50K'),\n",
              "            (  ' Assoc-acdm',  ' >50K'),\n",
              "            (   ' Assoc-voc', ' <=50K'),\n",
              "            (   ' Assoc-voc',  ' >50K'),\n",
              "            (   ' Bachelors', ' <=50K'),\n",
              "            (   ' Bachelors',  ' >50K'),\n",
              "            (   ' Doctorate', ' <=50K'),\n",
              "            (   ' Doctorate',  ' >50K'),\n",
              "            (     ' HS-grad', ' <=50K'),\n",
              "            (     ' HS-grad',  ' >50K'),\n",
              "            (     ' Masters', ' <=50K'),\n",
              "            (     ' Masters',  ' >50K'),\n",
              "            (   ' Preschool', ' <=50K'),\n",
              "            ( ' Prof-school', ' <=50K'),\n",
              "            ( ' Prof-school',  ' >50K'),\n",
              "            (' Some-college', ' <=50K'),\n",
              "            (' Some-college',  ' >50K')],\n",
              "           names=['education', 'income'])"
            ]
          },
          "metadata": {
            "tags": []
          },
          "execution_count": 18
        }
      ]
    },
    {
      "cell_type": "code",
      "metadata": {
        "id": "RMnO3PZs1Eub",
        "colab": {
          "base_uri": "https://localhost:8080/",
          "height": 55
        },
        "outputId": "24584e53-78d1-4729-9199-d3e1a011aefc"
      },
      "source": [
        "dataset3[' Bachelors', ' <=50K'], dataset3[' Bachelors', ' >50K']"
      ],
      "execution_count": null,
      "outputs": [
        {
          "output_type": "execute_result",
          "data": {
            "text/plain": [
              "(3134, 2221)"
            ]
          },
          "metadata": {
            "tags": []
          },
          "execution_count": 19
        }
      ]
    },
    {
      "cell_type": "code",
      "metadata": {
        "id": "pRBEOTtO1Khr",
        "colab": {
          "base_uri": "https://localhost:8080/",
          "height": 55
        },
        "outputId": "9e42eee4-81fb-4913-e464-17ee0f96ec37"
      },
      "source": [
        "3134 + 2221"
      ],
      "execution_count": null,
      "outputs": [
        {
          "output_type": "execute_result",
          "data": {
            "text/plain": [
              "5355"
            ]
          },
          "metadata": {
            "tags": []
          },
          "execution_count": 20
        }
      ]
    },
    {
      "cell_type": "code",
      "metadata": {
        "id": "OxncF7dU1MYv",
        "colab": {
          "base_uri": "https://localhost:8080/",
          "height": 55
        },
        "outputId": "44b0216c-023e-4e5e-fa03-e20444832617"
      },
      "source": [
        "# % >50K\n",
        "(2221 / 5355) * 100"
      ],
      "execution_count": null,
      "outputs": [
        {
          "output_type": "execute_result",
          "data": {
            "text/plain": [
              "41.47525676937442"
            ]
          },
          "metadata": {
            "tags": []
          },
          "execution_count": 21
        }
      ]
    },
    {
      "cell_type": "code",
      "metadata": {
        "id": "JIiOnJgn1OFW",
        "colab": {
          "base_uri": "https://localhost:8080/",
          "height": 55
        },
        "outputId": "4a2ec2ee-88a9-4d6e-968c-da3ce84f1339"
      },
      "source": [
        "# % <=50K\n",
        "(3134 / 5355) * 100"
      ],
      "execution_count": null,
      "outputs": [
        {
          "output_type": "execute_result",
          "data": {
            "text/plain": [
              "58.52474323062559"
            ]
          },
          "metadata": {
            "tags": []
          },
          "execution_count": 22
        }
      ]
    },
    {
      "cell_type": "markdown",
      "metadata": {
        "id": "jmQedGNJcXXJ"
      },
      "source": [
        "## Exercício coeficientes e taxas"
      ]
    },
    {
      "cell_type": "code",
      "metadata": {
        "id": "p6tOBMag5sWI"
      },
      "source": [
        "dados = {'ano': ['1', '2', '3', '4', 'total'],\n",
        "        'matriculas_marco': [70, 50, 47, 23, 190],\n",
        "        'matriculas_novembro': [65, 48, 40, 22, 175]}"
      ],
      "execution_count": null,
      "outputs": []
    },
    {
      "cell_type": "code",
      "metadata": {
        "id": "p-Nlh9pL5t7u",
        "colab": {
          "base_uri": "https://localhost:8080/",
          "height": 90
        },
        "outputId": "79df00ac-62d6-4d2b-c494-2350177151ae"
      },
      "source": [
        "dados"
      ],
      "execution_count": null,
      "outputs": [
        {
          "output_type": "execute_result",
          "data": {
            "text/plain": [
              "{'ano': ['1', '2', '3', '4', 'total'],\n",
              " 'matriculas_marco': [70, 50, 47, 23, 190],\n",
              " 'matriculas_novembro': [65, 48, 40, 22, 175]}"
            ]
          },
          "metadata": {
            "tags": []
          },
          "execution_count": 24
        }
      ]
    },
    {
      "cell_type": "code",
      "metadata": {
        "id": "GsEgDgAh5vbh",
        "colab": {
          "base_uri": "https://localhost:8080/",
          "height": 228
        },
        "outputId": "bf2012f1-3213-4edc-b032-6d46c0260cfb"
      },
      "source": [
        "dataset = pd.DataFrame(dados)\n",
        "dataset"
      ],
      "execution_count": null,
      "outputs": [
        {
          "output_type": "execute_result",
          "data": {
            "text/html": [
              "<div>\n",
              "<style scoped>\n",
              "    .dataframe tbody tr th:only-of-type {\n",
              "        vertical-align: middle;\n",
              "    }\n",
              "\n",
              "    .dataframe tbody tr th {\n",
              "        vertical-align: top;\n",
              "    }\n",
              "\n",
              "    .dataframe thead th {\n",
              "        text-align: right;\n",
              "    }\n",
              "</style>\n",
              "<table border=\"1\" class=\"dataframe\">\n",
              "  <thead>\n",
              "    <tr style=\"text-align: right;\">\n",
              "      <th></th>\n",
              "      <th>ano</th>\n",
              "      <th>matriculas_marco</th>\n",
              "      <th>matriculas_novembro</th>\n",
              "    </tr>\n",
              "  </thead>\n",
              "  <tbody>\n",
              "    <tr>\n",
              "      <th>0</th>\n",
              "      <td>1</td>\n",
              "      <td>70</td>\n",
              "      <td>65</td>\n",
              "    </tr>\n",
              "    <tr>\n",
              "      <th>1</th>\n",
              "      <td>2</td>\n",
              "      <td>50</td>\n",
              "      <td>48</td>\n",
              "    </tr>\n",
              "    <tr>\n",
              "      <th>2</th>\n",
              "      <td>3</td>\n",
              "      <td>47</td>\n",
              "      <td>40</td>\n",
              "    </tr>\n",
              "    <tr>\n",
              "      <th>3</th>\n",
              "      <td>4</td>\n",
              "      <td>23</td>\n",
              "      <td>22</td>\n",
              "    </tr>\n",
              "    <tr>\n",
              "      <th>4</th>\n",
              "      <td>total</td>\n",
              "      <td>190</td>\n",
              "      <td>175</td>\n",
              "    </tr>\n",
              "  </tbody>\n",
              "</table>\n",
              "</div>"
            ],
            "text/plain": [
              "     ano  matriculas_marco  matriculas_novembro\n",
              "0      1                70                   65\n",
              "1      2                50                   48\n",
              "2      3                47                   40\n",
              "3      4                23                   22\n",
              "4  total               190                  175"
            ]
          },
          "metadata": {
            "tags": []
          },
          "execution_count": 25
        }
      ]
    },
    {
      "cell_type": "code",
      "metadata": {
        "id": "Ky8PxfU75xZR"
      },
      "source": [
        "dataset['taxa_evasao'] = ((dataset['matriculas_marco'] - dataset['matriculas_novembro']) / dataset['matriculas_marco']) * 100"
      ],
      "execution_count": null,
      "outputs": []
    },
    {
      "cell_type": "code",
      "metadata": {
        "id": "eX_o4CT45zm8",
        "colab": {
          "base_uri": "https://localhost:8080/",
          "height": 228
        },
        "outputId": "92f94088-f94c-4bc6-f7af-ec9f6b0303e5"
      },
      "source": [
        "dataset"
      ],
      "execution_count": null,
      "outputs": [
        {
          "output_type": "execute_result",
          "data": {
            "text/html": [
              "<div>\n",
              "<style scoped>\n",
              "    .dataframe tbody tr th:only-of-type {\n",
              "        vertical-align: middle;\n",
              "    }\n",
              "\n",
              "    .dataframe tbody tr th {\n",
              "        vertical-align: top;\n",
              "    }\n",
              "\n",
              "    .dataframe thead th {\n",
              "        text-align: right;\n",
              "    }\n",
              "</style>\n",
              "<table border=\"1\" class=\"dataframe\">\n",
              "  <thead>\n",
              "    <tr style=\"text-align: right;\">\n",
              "      <th></th>\n",
              "      <th>ano</th>\n",
              "      <th>matriculas_marco</th>\n",
              "      <th>matriculas_novembro</th>\n",
              "      <th>taxa_evasao</th>\n",
              "    </tr>\n",
              "  </thead>\n",
              "  <tbody>\n",
              "    <tr>\n",
              "      <th>0</th>\n",
              "      <td>1</td>\n",
              "      <td>70</td>\n",
              "      <td>65</td>\n",
              "      <td>7.142857</td>\n",
              "    </tr>\n",
              "    <tr>\n",
              "      <th>1</th>\n",
              "      <td>2</td>\n",
              "      <td>50</td>\n",
              "      <td>48</td>\n",
              "      <td>4.000000</td>\n",
              "    </tr>\n",
              "    <tr>\n",
              "      <th>2</th>\n",
              "      <td>3</td>\n",
              "      <td>47</td>\n",
              "      <td>40</td>\n",
              "      <td>14.893617</td>\n",
              "    </tr>\n",
              "    <tr>\n",
              "      <th>3</th>\n",
              "      <td>4</td>\n",
              "      <td>23</td>\n",
              "      <td>22</td>\n",
              "      <td>4.347826</td>\n",
              "    </tr>\n",
              "    <tr>\n",
              "      <th>4</th>\n",
              "      <td>total</td>\n",
              "      <td>190</td>\n",
              "      <td>175</td>\n",
              "      <td>7.894737</td>\n",
              "    </tr>\n",
              "  </tbody>\n",
              "</table>\n",
              "</div>"
            ],
            "text/plain": [
              "     ano  matriculas_marco  matriculas_novembro  taxa_evasao\n",
              "0      1                70                   65     7.142857\n",
              "1      2                50                   48     4.000000\n",
              "2      3                47                   40    14.893617\n",
              "3      4                23                   22     4.347826\n",
              "4  total               190                  175     7.894737"
            ]
          },
          "metadata": {
            "tags": []
          },
          "execution_count": 27
        }
      ]
    }
  ]
}